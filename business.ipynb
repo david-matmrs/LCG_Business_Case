{
 "cells": [
  {
   "cell_type": "markdown",
   "id": "455e964e",
   "metadata": {},
   "source": [
    "# Loading and cleaning"
   ]
  },
  {
   "cell_type": "code",
   "execution_count": 1,
   "id": "7f12a025",
   "metadata": {},
   "outputs": [],
   "source": [
    "import pyxlsb\n",
    "import pandas as pd"
   ]
  },
  {
   "cell_type": "code",
   "execution_count": 2,
   "id": "fc2db945",
   "metadata": {},
   "outputs": [
    {
     "data": {
      "application/vnd.microsoft.datawrangler.viewer.v0+json": {
       "columns": [
        {
         "name": "index",
         "rawType": "int64",
         "type": "integer"
        },
        {
         "name": "Fecha",
         "rawType": "datetime64[ns]",
         "type": "datetime"
        },
        {
         "name": "Número de Vendedor",
         "rawType": "float64",
         "type": "float"
        },
        {
         "name": "None",
         "rawType": "object",
         "type": "unknown"
        },
        {
         "name": "Nom_Completo_Vendedor",
         "rawType": "object",
         "type": "unknown"
        },
        {
         "name": "Número de cliente",
         "rawType": "float64",
         "type": "float"
        },
        {
         "name": "Tipo",
         "rawType": "object",
         "type": "unknown"
        },
        {
         "name": "Departamento - Clave",
         "rawType": "object",
         "type": "unknown"
        },
        {
         "name": "Departamento",
         "rawType": "object",
         "type": "unknown"
        },
        {
         "name": "Familia - Clave",
         "rawType": "object",
         "type": "unknown"
        },
        {
         "name": "Familia",
         "rawType": "object",
         "type": "unknown"
        },
        {
         "name": "Ventas Netas (Q)",
         "rawType": "float64",
         "type": "float"
        },
        {
         "name": "Costo",
         "rawType": "float64",
         "type": "float"
        },
        {
         "name": "None",
         "rawType": "object",
         "type": "unknown"
        },
        {
         "name": "None",
         "rawType": "object",
         "type": "unknown"
        }
       ],
       "ref": "35172b75-7cc7-4493-8d78-54060dd58705",
       "rows": [
        [
         "0",
         "2015-01-01 00:00:00",
         "7.0",
         null,
         null,
         "66.0",
         "Real",
         "0021",
         null,
         "328",
         "TRATAMIENTO DE CONCRETO",
         "31740.12",
         "22046.54",
         null,
         null
        ],
        [
         "1",
         "2015-01-01 00:00:00",
         "5.0",
         null,
         null,
         "45.0",
         "Real",
         "0021",
         null,
         "370",
         "PINTURAS DECORATIVAS",
         "2377.3",
         "1761.3500000000001",
         null,
         null
        ],
        [
         "2",
         "2015-01-01 00:00:00",
         "8.0",
         null,
         null,
         "75.0",
         "Real",
         null,
         "Pinturas",
         "371",
         "BARNICES ARQUITECTÓNICOS",
         "20422.48",
         "13189.05",
         null,
         null
        ],
        [
         "3",
         "2015-01-01 00:00:00",
         "6.0",
         null,
         null,
         "57.0",
         "Real",
         "0021",
         null,
         "372",
         "PINTURA AUTOMOTRIZ",
         "719.8",
         "668.4",
         null,
         null
        ],
        [
         "4",
         "2015-01-01 00:00:00",
         "7.0",
         null,
         null,
         "62.0",
         "Real",
         "0021",
         null,
         "376",
         "TINTES PARA MADERA",
         "15589.78",
         "10835.03",
         null,
         null
        ],
        [
         "5",
         "2015-01-01 00:00:00",
         "2.0",
         null,
         null,
         "20.0",
         "Real",
         "0021",
         null,
         "751",
         "BROCHAS, RODILLOS Y BANDEJAS",
         "216456.68",
         "116269.20999999999",
         null,
         null
        ],
        [
         "6",
         "2015-01-01 00:00:00",
         "5.0",
         null,
         null,
         "48.0",
         "Real",
         "0021",
         null,
         "755",
         "PINTURAS ARQUITECTÓNICAS",
         "1729340.26",
         "1253315.52",
         null,
         null
        ],
        [
         "7",
         "2015-01-01 00:00:00",
         "1.0",
         null,
         null,
         "46.0",
         "Real",
         "0021",
         null,
         "756",
         "PINTURAS INDUSTRIALES, PROTECTORAS Y MA",
         "329611.52",
         "238980.14",
         null,
         null
        ],
        [
         "8",
         "2015-01-01 00:00:00",
         "1.0",
         null,
         null,
         "14.0",
         "Real",
         "0021",
         null,
         "757",
         "ACABADOS PARA MADERA",
         "90160.44",
         "64186.48",
         null,
         null
        ],
        [
         "9",
         "2015-01-01 00:00:00",
         "8.0",
         null,
         null,
         "77.0",
         "Real",
         "0021",
         null,
         "758",
         "PINTURA EN SPRAY",
         "158072.48",
         "84473.02",
         null,
         null
        ],
        [
         "10",
         "2015-01-01 00:00:00",
         "6.0",
         null,
         null,
         "51.0",
         "Real",
         "0021",
         null,
         "759",
         "PREPARADORES DE SUPERFICIE ARQUITECTÓNI",
         "114181.26",
         "80830.87",
         null,
         null
        ],
        [
         "11",
         "2015-01-01 00:00:00",
         "1.0",
         null,
         null,
         "74.0",
         "Real",
         "0021",
         null,
         "760",
         "DECORACIÓN",
         "10790.87",
         "10033.570000000002",
         null,
         null
        ],
        [
         "12",
         "2015-01-01 00:00:00",
         "5.0",
         null,
         null,
         "50.0",
         "Real",
         "0021",
         null,
         "762",
         "HERRAMIENTAS Y ACCESORIOS PARA PINTAR",
         "255852.73",
         "145892.06",
         null,
         null
        ],
        [
         "13",
         "2015-01-01 00:00:00",
         "1.0",
         null,
         null,
         "74.0",
         "Real",
         "0022",
         null,
         "303",
         "PLACAS Y MECANISMOS ELECTRICOS",
         "170928.0",
         "94795.76",
         null,
         null
        ],
        [
         "14",
         "2015-01-01 00:00:00",
         "1.0",
         null,
         null,
         "4.0",
         "Real",
         "0022",
         null,
         "949",
         "LINTERNAS",
         "253595.86",
         "144972.00999999998",
         null,
         null
        ],
        [
         "15",
         "2015-01-01 00:00:00",
         "1.0",
         null,
         null,
         "74.0",
         "Real",
         "0022",
         null,
         "950",
         "BATERIAS Y CARGADORES",
         "310133.01",
         "187987.69",
         null,
         null
        ],
        [
         "16",
         "2015-01-01 00:00:00",
         "1.0",
         null,
         null,
         "68.0",
         "Real",
         "0022",
         null,
         "951",
         "ILUMINACIÓN",
         "1941116.85",
         "1171062.08",
         null,
         null
        ],
        [
         "17",
         "2015-01-01 00:00:00",
         "3.0",
         null,
         null,
         "21.0",
         "Real",
         "0022",
         null,
         "952",
         "LAMPARAS",
         "118110.71",
         "62182.14000000001",
         null,
         null
        ],
        [
         "18",
         "2015-01-01 00:00:00",
         "2.0",
         null,
         null,
         "11.0",
         "Real",
         "0022",
         null,
         "953",
         "EXTENSIONES Y PROTECTORES DE CORRIENTE",
         "412632.49",
         "225308.93",
         null,
         null
        ],
        [
         "19",
         "2015-01-01 00:00:00",
         "1.0",
         null,
         null,
         "6.0",
         "Real",
         "0022",
         null,
         "954",
         "CABLES/ALAMBRES",
         "108779.77",
         "64191.4",
         null,
         null
        ],
        [
         "20",
         "2015-01-01 00:00:00",
         "6.0",
         null,
         null,
         "58.0",
         "Real",
         "0022",
         null,
         "955",
         "ACCESORIOS PARA CABLES/ALAMBRES",
         "103799.65",
         "44783.45",
         null,
         null
        ],
        [
         "21",
         "2015-01-01 00:00:00",
         "1.0",
         null,
         null,
         "68.0",
         "Real",
         "0022",
         null,
         "956",
         "ESPIGAS, TOMAS DE PENDULO Y COVERTIDORE",
         "38352.95",
         "20149.709999999995",
         null,
         null
        ],
        [
         "22",
         "2015-01-01 00:00:00",
         "7.0",
         null,
         null,
         "61.0",
         "Real",
         "0022",
         null,
         "957",
         "TIMERS Y CONTROLES INTELIGENTES",
         "16737.45",
         "9000.1",
         null,
         null
        ],
        [
         "23",
         "2015-01-01 00:00:00",
         "5.0",
         null,
         null,
         "49.0",
         "Real",
         "0022",
         null,
         "958",
         "FLIPONES Y CAJAS DE DISTRIBUCIÓN",
         "25772.59",
         "17039.65",
         null,
         null
        ],
        [
         "24",
         "2015-01-01 00:00:00",
         "1.0",
         null,
         null,
         "74.0",
         "Real",
         "0022",
         null,
         "959",
         "CAJAS ELÉCTRICAS, TUBERÍAS Y ACCESORIOS",
         "25533.92",
         "12889.749999999998",
         null,
         null
        ],
        [
         "25",
         "2015-01-01 00:00:00",
         "1.0",
         null,
         null,
         "68.0",
         "Real",
         "0022",
         null,
         "960",
         "HERRAMIENTAS Y ACCESORIOS PARA TRABAJO",
         "200938.94",
         "103585.43000000001",
         null,
         null
        ],
        [
         "26",
         "2015-01-01 00:00:00",
         "1.0",
         null,
         null,
         "59.0",
         "Real",
         "0023",
         null,
         "305",
         "ACCESORIOS PARA HERRAMIENTAS NEUMATICAS",
         "6397.6",
         "3353.34",
         null,
         null
        ],
        [
         "27",
         "2015-01-01 00:00:00",
         "1.0",
         null,
         null,
         "47.0",
         "Real",
         "0023",
         null,
         "686",
         "HERRAMIENTAS NEUMÁTICAS",
         "15987.21",
         "8931.31",
         null,
         null
        ],
        [
         "28",
         "2015-01-01 00:00:00",
         "8.0",
         null,
         null,
         "82.0",
         "Real",
         "0023",
         null,
         "687",
         "HERRAMIENTAS PARA SOLDAR",
         "115135.16",
         "63253.270000000004",
         null,
         null
        ],
        [
         "29",
         "2015-01-01 00:00:00",
         "1.0",
         null,
         null,
         "10.0",
         "Real",
         "0023",
         null,
         "716",
         "HERRAMIENTA ELÉCTRICA",
         "1006667.95",
         "674478.77",
         null,
         null
        ],
        [
         "30",
         "2015-01-01 00:00:00",
         "1.0",
         null,
         null,
         "14.0",
         "Real",
         "0023",
         null,
         "717",
         "ACCESORIOS PARA HERRAMIENTAS ELÉCTRICAS",
         "432235.18",
         "228552.84",
         null,
         null
        ],
        [
         "31",
         "2015-01-01 00:00:00",
         "1.0",
         null,
         null,
         "47.0",
         "Real",
         "0023",
         null,
         "718",
         "HERRAMIENTAS ESTACIONARIAS",
         "61748.22",
         "36182.41",
         null,
         null
        ],
        [
         "32",
         "2015-01-01 00:00:00",
         "1.0",
         null,
         null,
         "6.0",
         "Real",
         "0023",
         null,
         "719",
         "HERRAMIENTA MANUAL PARA CONSTRUCCIÓN",
         "53347.08",
         "31403.320000000003",
         null,
         null
        ],
        [
         "33",
         "2015-01-01 00:00:00",
         "7.0",
         null,
         null,
         "63.0",
         "Real",
         "0023",
         null,
         "720",
         "HERRAMIENTA MANUAL PARA CORTAR",
         "125792.81",
         "62750.09",
         null,
         null
        ],
        [
         "34",
         "2015-01-01 00:00:00",
         "1.0",
         null,
         null,
         "59.0",
         "Real",
         "0023",
         null,
         "722",
         "HERRAMIENTA MANUAL PARA MEDIR Y MARCAR",
         "86915.97",
         "46642.33",
         null,
         null
        ],
        [
         "35",
         "2015-01-01 00:00:00",
         "5.0",
         null,
         null,
         "46.0",
         "Real",
         "0023",
         null,
         "723",
         "HERRAMIENTA MANUAL PARA UNIR / PEGAR",
         "70574.36",
         "37568.18",
         null,
         null
        ],
        [
         "36",
         "2015-01-01 00:00:00",
         "3.0",
         null,
         null,
         "22.0",
         "Real",
         "0023",
         null,
         "724",
         "CAJAS DE HERRAMIENTAS Y ORGANIZADORES",
         "206367.67",
         "114467.22000000002",
         null,
         null
        ],
        [
         "37",
         "2015-01-01 00:00:00",
         "5.0",
         null,
         null,
         "41.0",
         "Real",
         "0023",
         null,
         "961",
         "GENERADORES DE ENERGÍA",
         "11158.98",
         "8023.69",
         null,
         null
        ],
        [
         "38",
         "2015-01-01 00:00:00",
         "1.0",
         null,
         null,
         "68.0",
         "Real",
         "0024",
         null,
         "962",
         "GRIFERÍA",
         "534220.11",
         "300137.6",
         null,
         null
        ],
        [
         "39",
         "2015-01-01 00:00:00",
         "2.0",
         null,
         null,
         "18.0",
         "Real",
         "0024",
         null,
         "963",
         "EMPAQUES",
         "9100.83",
         "4046.66",
         null,
         null
        ],
        [
         "40",
         "2015-01-01 00:00:00",
         "1.0",
         null,
         null,
         "68.0",
         "Real",
         "0024",
         null,
         "964",
         "TUBERÍA, CONEXIONES Y DRENAJE",
         "447723.18",
         "226192.21",
         null,
         null
        ],
        [
         "41",
         "2015-01-01 00:00:00",
         "1.0",
         null,
         null,
         "14.0",
         "Real",
         "0024",
         null,
         "971",
         "CALENTADORES DE AGUA",
         "1234339.36",
         "816669.2200000001",
         null,
         null
        ],
        [
         "42",
         "2015-01-01 00:00:00",
         "5.0",
         null,
         null,
         "44.0",
         "Real",
         "0024",
         null,
         "972",
         "HERRAMIENTAS DE PLOMERÍA",
         "39603.62",
         "19220.850000000002",
         null,
         null
        ],
        [
         "43",
         "2015-01-01 00:00:00",
         "1.0",
         null,
         null,
         "68.0",
         "Real",
         "0024",
         null,
         "973",
         "LLAVES",
         "184206.95",
         "102142.20000000001",
         null,
         null
        ],
        [
         "44",
         "2015-01-01 00:00:00",
         "8.0",
         null,
         null,
         "83.0",
         "Real",
         "0024",
         null,
         "974",
         "DESAGÜE Y ACCESORIOS",
         "177661.03",
         "94296.45999999999",
         null,
         null
        ],
        [
         "45",
         "2015-01-01 00:00:00",
         "1.0",
         null,
         null,
         "59.0",
         "Real",
         "0024",
         null,
         "980",
         "BOMBAS DE AGUA",
         "113875.03",
         "69468.75",
         null,
         null
        ],
        [
         "46",
         "2015-01-01 00:00:00",
         "1.0",
         null,
         null,
         "59.0",
         "Real",
         "0024",
         null,
         "984",
         "FILTROS",
         "25742.32",
         "14827.81",
         null,
         null
        ],
        [
         "47",
         "2015-01-01 00:00:00",
         "7.0",
         null,
         null,
         "66.0",
         "Real",
         "0024",
         null,
         "985",
         "LAVATRASTOS",
         "80284.24",
         "52217.520000000004",
         null,
         null
        ],
        [
         "48",
         "2015-01-01 00:00:00",
         "7.0",
         null,
         null,
         "66.0",
         "Real",
         "0024",
         null,
         "986",
         "SECADORES Y EXTRACTORES DE BAÑO",
         "14071.07",
         "7696.25",
         null,
         null
        ],
        [
         "49",
         "2015-01-01 00:00:00",
         "8.0",
         null,
         null,
         "73.0",
         "Real",
         "0024",
         null,
         "987",
         "MUEBLES Y ESPEJOS",
         "43397.19",
         "26651.210000000003",
         null,
         null
        ]
       ],
       "shape": {
        "columns": 14,
        "rows": 7414
       }
      },
      "text/html": [
       "<div>\n",
       "<style scoped>\n",
       "    .dataframe tbody tr th:only-of-type {\n",
       "        vertical-align: middle;\n",
       "    }\n",
       "\n",
       "    .dataframe tbody tr th {\n",
       "        vertical-align: top;\n",
       "    }\n",
       "\n",
       "    .dataframe thead th {\n",
       "        text-align: right;\n",
       "    }\n",
       "</style>\n",
       "<table border=\"1\" class=\"dataframe\">\n",
       "  <thead>\n",
       "    <tr style=\"text-align: right;\">\n",
       "      <th></th>\n",
       "      <th>Fecha</th>\n",
       "      <th>Número de Vendedor</th>\n",
       "      <th>None</th>\n",
       "      <th>Nom_Completo_Vendedor</th>\n",
       "      <th>Número de cliente</th>\n",
       "      <th>Tipo</th>\n",
       "      <th>Departamento - Clave</th>\n",
       "      <th>Departamento</th>\n",
       "      <th>Familia - Clave</th>\n",
       "      <th>Familia</th>\n",
       "      <th>Ventas Netas (Q)</th>\n",
       "      <th>Costo</th>\n",
       "      <th>None</th>\n",
       "      <th>None</th>\n",
       "    </tr>\n",
       "  </thead>\n",
       "  <tbody>\n",
       "    <tr>\n",
       "      <th>0</th>\n",
       "      <td>2015-01-01</td>\n",
       "      <td>7.0</td>\n",
       "      <td>None</td>\n",
       "      <td>None</td>\n",
       "      <td>66.0</td>\n",
       "      <td>Real</td>\n",
       "      <td>0021</td>\n",
       "      <td>None</td>\n",
       "      <td>328</td>\n",
       "      <td>TRATAMIENTO DE CONCRETO</td>\n",
       "      <td>31740.12</td>\n",
       "      <td>22046.54</td>\n",
       "      <td>None</td>\n",
       "      <td>None</td>\n",
       "    </tr>\n",
       "    <tr>\n",
       "      <th>1</th>\n",
       "      <td>2015-01-01</td>\n",
       "      <td>5.0</td>\n",
       "      <td>None</td>\n",
       "      <td>None</td>\n",
       "      <td>45.0</td>\n",
       "      <td>Real</td>\n",
       "      <td>0021</td>\n",
       "      <td>None</td>\n",
       "      <td>370</td>\n",
       "      <td>PINTURAS DECORATIVAS</td>\n",
       "      <td>2377.30</td>\n",
       "      <td>1761.35</td>\n",
       "      <td>None</td>\n",
       "      <td>None</td>\n",
       "    </tr>\n",
       "    <tr>\n",
       "      <th>2</th>\n",
       "      <td>2015-01-01</td>\n",
       "      <td>8.0</td>\n",
       "      <td>None</td>\n",
       "      <td>None</td>\n",
       "      <td>75.0</td>\n",
       "      <td>Real</td>\n",
       "      <td>None</td>\n",
       "      <td>Pinturas</td>\n",
       "      <td>371</td>\n",
       "      <td>BARNICES ARQUITECTÓNICOS</td>\n",
       "      <td>20422.48</td>\n",
       "      <td>13189.05</td>\n",
       "      <td>None</td>\n",
       "      <td>None</td>\n",
       "    </tr>\n",
       "    <tr>\n",
       "      <th>3</th>\n",
       "      <td>2015-01-01</td>\n",
       "      <td>6.0</td>\n",
       "      <td>None</td>\n",
       "      <td>None</td>\n",
       "      <td>57.0</td>\n",
       "      <td>Real</td>\n",
       "      <td>0021</td>\n",
       "      <td>None</td>\n",
       "      <td>372</td>\n",
       "      <td>PINTURA AUTOMOTRIZ</td>\n",
       "      <td>719.80</td>\n",
       "      <td>668.40</td>\n",
       "      <td>None</td>\n",
       "      <td>None</td>\n",
       "    </tr>\n",
       "    <tr>\n",
       "      <th>4</th>\n",
       "      <td>2015-01-01</td>\n",
       "      <td>7.0</td>\n",
       "      <td>None</td>\n",
       "      <td>None</td>\n",
       "      <td>62.0</td>\n",
       "      <td>Real</td>\n",
       "      <td>0021</td>\n",
       "      <td>None</td>\n",
       "      <td>376</td>\n",
       "      <td>TINTES PARA MADERA</td>\n",
       "      <td>15589.78</td>\n",
       "      <td>10835.03</td>\n",
       "      <td>None</td>\n",
       "      <td>None</td>\n",
       "    </tr>\n",
       "    <tr>\n",
       "      <th>...</th>\n",
       "      <td>...</td>\n",
       "      <td>...</td>\n",
       "      <td>...</td>\n",
       "      <td>...</td>\n",
       "      <td>...</td>\n",
       "      <td>...</td>\n",
       "      <td>...</td>\n",
       "      <td>...</td>\n",
       "      <td>...</td>\n",
       "      <td>...</td>\n",
       "      <td>...</td>\n",
       "      <td>...</td>\n",
       "      <td>...</td>\n",
       "      <td>...</td>\n",
       "    </tr>\n",
       "    <tr>\n",
       "      <th>7409</th>\n",
       "      <td>2016-12-01</td>\n",
       "      <td>4.0</td>\n",
       "      <td>None</td>\n",
       "      <td>None</td>\n",
       "      <td>36.0</td>\n",
       "      <td>Real</td>\n",
       "      <td>0050</td>\n",
       "      <td>None</td>\n",
       "      <td>527</td>\n",
       "      <td>Puertas</td>\n",
       "      <td>12490.53</td>\n",
       "      <td>9547.57</td>\n",
       "      <td>None</td>\n",
       "      <td>None</td>\n",
       "    </tr>\n",
       "    <tr>\n",
       "      <th>7410</th>\n",
       "      <td>2016-12-01</td>\n",
       "      <td>1.0</td>\n",
       "      <td>None</td>\n",
       "      <td>None</td>\n",
       "      <td>47.0</td>\n",
       "      <td>Real</td>\n",
       "      <td>0050</td>\n",
       "      <td>None</td>\n",
       "      <td>528</td>\n",
       "      <td>Ventanas</td>\n",
       "      <td>11183.92</td>\n",
       "      <td>7751.78</td>\n",
       "      <td>None</td>\n",
       "      <td>None</td>\n",
       "    </tr>\n",
       "    <tr>\n",
       "      <th>7411</th>\n",
       "      <td>2016-12-01</td>\n",
       "      <td>1.0</td>\n",
       "      <td>None</td>\n",
       "      <td>None</td>\n",
       "      <td>68.0</td>\n",
       "      <td>Real</td>\n",
       "      <td>0050</td>\n",
       "      <td>None</td>\n",
       "      <td>529</td>\n",
       "      <td>Techos</td>\n",
       "      <td>67611.21</td>\n",
       "      <td>51465.89</td>\n",
       "      <td>None</td>\n",
       "      <td>None</td>\n",
       "    </tr>\n",
       "    <tr>\n",
       "      <th>7412</th>\n",
       "      <td>2016-12-01</td>\n",
       "      <td>4.0</td>\n",
       "      <td>None</td>\n",
       "      <td>None</td>\n",
       "      <td>35.0</td>\n",
       "      <td>Real</td>\n",
       "      <td>0050</td>\n",
       "      <td>None</td>\n",
       "      <td>530</td>\n",
       "      <td>Tabicación</td>\n",
       "      <td>13373.82</td>\n",
       "      <td>10981.85</td>\n",
       "      <td>None</td>\n",
       "      <td>None</td>\n",
       "    </tr>\n",
       "    <tr>\n",
       "      <th>7413</th>\n",
       "      <td>2016-12-01</td>\n",
       "      <td>1.0</td>\n",
       "      <td>None</td>\n",
       "      <td>None</td>\n",
       "      <td>1.0</td>\n",
       "      <td>Real</td>\n",
       "      <td>0050</td>\n",
       "      <td>None</td>\n",
       "      <td>549</td>\n",
       "      <td>Cielo Suspendido</td>\n",
       "      <td>7477.19</td>\n",
       "      <td>5863.33</td>\n",
       "      <td>None</td>\n",
       "      <td>None</td>\n",
       "    </tr>\n",
       "  </tbody>\n",
       "</table>\n",
       "<p>7414 rows × 14 columns</p>\n",
       "</div>"
      ],
      "text/plain": [
       "          Fecha  Número de Vendedor  None Nom_Completo_Vendedor  \\\n",
       "0    2015-01-01                 7.0  None                  None   \n",
       "1    2015-01-01                 5.0  None                  None   \n",
       "2    2015-01-01                 8.0  None                  None   \n",
       "3    2015-01-01                 6.0  None                  None   \n",
       "4    2015-01-01                 7.0  None                  None   \n",
       "...         ...                 ...   ...                   ...   \n",
       "7409 2016-12-01                 4.0  None                  None   \n",
       "7410 2016-12-01                 1.0  None                  None   \n",
       "7411 2016-12-01                 1.0  None                  None   \n",
       "7412 2016-12-01                 4.0  None                  None   \n",
       "7413 2016-12-01                 1.0  None                  None   \n",
       "\n",
       "      Número de cliente  Tipo Departamento - Clave Departamento  \\\n",
       "0                  66.0  Real                 0021         None   \n",
       "1                  45.0  Real                 0021         None   \n",
       "2                  75.0  Real                 None     Pinturas   \n",
       "3                  57.0  Real                 0021         None   \n",
       "4                  62.0  Real                 0021         None   \n",
       "...                 ...   ...                  ...          ...   \n",
       "7409               36.0  Real                 0050         None   \n",
       "7410               47.0  Real                 0050         None   \n",
       "7411               68.0  Real                 0050         None   \n",
       "7412               35.0  Real                 0050         None   \n",
       "7413                1.0  Real                 0050         None   \n",
       "\n",
       "     Familia - Clave                   Familia  Ventas Netas (Q)     Costo  \\\n",
       "0                328   TRATAMIENTO DE CONCRETO          31740.12  22046.54   \n",
       "1                370      PINTURAS DECORATIVAS           2377.30   1761.35   \n",
       "2                371  BARNICES ARQUITECTÓNICOS          20422.48  13189.05   \n",
       "3                372        PINTURA AUTOMOTRIZ            719.80    668.40   \n",
       "4                376        TINTES PARA MADERA          15589.78  10835.03   \n",
       "...              ...                       ...               ...       ...   \n",
       "7409             527                   Puertas          12490.53   9547.57   \n",
       "7410             528                  Ventanas          11183.92   7751.78   \n",
       "7411             529                    Techos          67611.21  51465.89   \n",
       "7412             530                Tabicación          13373.82  10981.85   \n",
       "7413             549          Cielo Suspendido           7477.19   5863.33   \n",
       "\n",
       "      None  None  \n",
       "0     None  None  \n",
       "1     None  None  \n",
       "2     None  None  \n",
       "3     None  None  \n",
       "4     None  None  \n",
       "...    ...   ...  \n",
       "7409  None  None  \n",
       "7410  None  None  \n",
       "7411  None  None  \n",
       "7412  None  None  \n",
       "7413  None  None  \n",
       "\n",
       "[7414 rows x 14 columns]"
      ]
     },
     "execution_count": 2,
     "metadata": {},
     "output_type": "execute_result"
    }
   ],
   "source": [
    "# Open the database from the third sheet of the .xlsb file\n",
    "with pyxlsb.open_workbook('BC LCG 2017 CN.xlsb') as wb:\n",
    "    with wb.get_sheet(3) as sheet:\n",
    "        data = []\n",
    "        for row in sheet.rows():\n",
    "            data.append([item.v for item in row])\n",
    "\n",
    "# Skip the first empty row and use the second row as header \n",
    "df = pd.DataFrame(data[2:], columns=data[1])\n",
    "df['Fecha'] = pd.to_datetime(df['Fecha'], unit='d', origin='1899-12-30')\n",
    "df"
   ]
  },
  {
   "cell_type": "code",
   "execution_count": 3,
   "id": "63832775",
   "metadata": {},
   "outputs": [
    {
     "data": {
      "application/vnd.microsoft.datawrangler.viewer.v0+json": {
       "columns": [
        {
         "name": "index",
         "rawType": "int64",
         "type": "integer"
        },
        {
         "name": "Fecha",
         "rawType": "datetime64[ns]",
         "type": "datetime"
        },
        {
         "name": "Número de Vendedor",
         "rawType": "float64",
         "type": "float"
        },
        {
         "name": "Número de cliente",
         "rawType": "float64",
         "type": "float"
        },
        {
         "name": "Tipo",
         "rawType": "object",
         "type": "string"
        },
        {
         "name": "Departamento - Clave",
         "rawType": "object",
         "type": "unknown"
        },
        {
         "name": "Departamento",
         "rawType": "object",
         "type": "unknown"
        },
        {
         "name": "Familia - Clave",
         "rawType": "object",
         "type": "string"
        },
        {
         "name": "Familia",
         "rawType": "object",
         "type": "string"
        },
        {
         "name": "Ventas Netas (Q)",
         "rawType": "float64",
         "type": "float"
        },
        {
         "name": "Costo",
         "rawType": "float64",
         "type": "float"
        }
       ],
       "ref": "64ece04b-bb9c-474f-86ad-86dec09e440a",
       "rows": [
        [
         "0",
         "2015-01-01 00:00:00",
         "7.0",
         "66.0",
         "Real",
         "0021",
         null,
         "328",
         "TRATAMIENTO DE CONCRETO",
         "31740.12",
         "22046.54"
        ],
        [
         "1",
         "2015-01-01 00:00:00",
         "5.0",
         "45.0",
         "Real",
         "0021",
         null,
         "370",
         "PINTURAS DECORATIVAS",
         "2377.3",
         "1761.3500000000001"
        ],
        [
         "2",
         "2015-01-01 00:00:00",
         "8.0",
         "75.0",
         "Real",
         null,
         "Pinturas",
         "371",
         "BARNICES ARQUITECTÓNICOS",
         "20422.48",
         "13189.05"
        ],
        [
         "3",
         "2015-01-01 00:00:00",
         "6.0",
         "57.0",
         "Real",
         "0021",
         null,
         "372",
         "PINTURA AUTOMOTRIZ",
         "719.8",
         "668.4"
        ],
        [
         "4",
         "2015-01-01 00:00:00",
         "7.0",
         "62.0",
         "Real",
         "0021",
         null,
         "376",
         "TINTES PARA MADERA",
         "15589.78",
         "10835.03"
        ],
        [
         "5",
         "2015-01-01 00:00:00",
         "2.0",
         "20.0",
         "Real",
         "0021",
         null,
         "751",
         "BROCHAS, RODILLOS Y BANDEJAS",
         "216456.68",
         "116269.20999999999"
        ],
        [
         "6",
         "2015-01-01 00:00:00",
         "5.0",
         "48.0",
         "Real",
         "0021",
         null,
         "755",
         "PINTURAS ARQUITECTÓNICAS",
         "1729340.26",
         "1253315.52"
        ],
        [
         "7",
         "2015-01-01 00:00:00",
         "1.0",
         "46.0",
         "Real",
         "0021",
         null,
         "756",
         "PINTURAS INDUSTRIALES, PROTECTORAS Y MA",
         "329611.52",
         "238980.14"
        ],
        [
         "8",
         "2015-01-01 00:00:00",
         "1.0",
         "14.0",
         "Real",
         "0021",
         null,
         "757",
         "ACABADOS PARA MADERA",
         "90160.44",
         "64186.48"
        ],
        [
         "9",
         "2015-01-01 00:00:00",
         "8.0",
         "77.0",
         "Real",
         "0021",
         null,
         "758",
         "PINTURA EN SPRAY",
         "158072.48",
         "84473.02"
        ],
        [
         "10",
         "2015-01-01 00:00:00",
         "6.0",
         "51.0",
         "Real",
         "0021",
         null,
         "759",
         "PREPARADORES DE SUPERFICIE ARQUITECTÓNI",
         "114181.26",
         "80830.87"
        ],
        [
         "11",
         "2015-01-01 00:00:00",
         "1.0",
         "74.0",
         "Real",
         "0021",
         null,
         "760",
         "DECORACIÓN",
         "10790.87",
         "10033.570000000002"
        ],
        [
         "12",
         "2015-01-01 00:00:00",
         "5.0",
         "50.0",
         "Real",
         "0021",
         null,
         "762",
         "HERRAMIENTAS Y ACCESORIOS PARA PINTAR",
         "255852.73",
         "145892.06"
        ],
        [
         "13",
         "2015-01-01 00:00:00",
         "1.0",
         "74.0",
         "Real",
         "0022",
         null,
         "303",
         "PLACAS Y MECANISMOS ELECTRICOS",
         "170928.0",
         "94795.76"
        ],
        [
         "14",
         "2015-01-01 00:00:00",
         "1.0",
         "4.0",
         "Real",
         "0022",
         null,
         "949",
         "LINTERNAS",
         "253595.86",
         "144972.00999999998"
        ],
        [
         "15",
         "2015-01-01 00:00:00",
         "1.0",
         "74.0",
         "Real",
         "0022",
         null,
         "950",
         "BATERIAS Y CARGADORES",
         "310133.01",
         "187987.69"
        ],
        [
         "16",
         "2015-01-01 00:00:00",
         "1.0",
         "68.0",
         "Real",
         "0022",
         null,
         "951",
         "ILUMINACIÓN",
         "1941116.85",
         "1171062.08"
        ],
        [
         "17",
         "2015-01-01 00:00:00",
         "3.0",
         "21.0",
         "Real",
         "0022",
         null,
         "952",
         "LAMPARAS",
         "118110.71",
         "62182.14000000001"
        ],
        [
         "18",
         "2015-01-01 00:00:00",
         "2.0",
         "11.0",
         "Real",
         "0022",
         null,
         "953",
         "EXTENSIONES Y PROTECTORES DE CORRIENTE",
         "412632.49",
         "225308.93"
        ],
        [
         "19",
         "2015-01-01 00:00:00",
         "1.0",
         "6.0",
         "Real",
         "0022",
         null,
         "954",
         "CABLES/ALAMBRES",
         "108779.77",
         "64191.4"
        ],
        [
         "20",
         "2015-01-01 00:00:00",
         "6.0",
         "58.0",
         "Real",
         "0022",
         null,
         "955",
         "ACCESORIOS PARA CABLES/ALAMBRES",
         "103799.65",
         "44783.45"
        ],
        [
         "21",
         "2015-01-01 00:00:00",
         "1.0",
         "68.0",
         "Real",
         "0022",
         null,
         "956",
         "ESPIGAS, TOMAS DE PENDULO Y COVERTIDORE",
         "38352.95",
         "20149.709999999995"
        ],
        [
         "22",
         "2015-01-01 00:00:00",
         "7.0",
         "61.0",
         "Real",
         "0022",
         null,
         "957",
         "TIMERS Y CONTROLES INTELIGENTES",
         "16737.45",
         "9000.1"
        ],
        [
         "23",
         "2015-01-01 00:00:00",
         "5.0",
         "49.0",
         "Real",
         "0022",
         null,
         "958",
         "FLIPONES Y CAJAS DE DISTRIBUCIÓN",
         "25772.59",
         "17039.65"
        ],
        [
         "24",
         "2015-01-01 00:00:00",
         "1.0",
         "74.0",
         "Real",
         "0022",
         null,
         "959",
         "CAJAS ELÉCTRICAS, TUBERÍAS Y ACCESORIOS",
         "25533.92",
         "12889.749999999998"
        ],
        [
         "25",
         "2015-01-01 00:00:00",
         "1.0",
         "68.0",
         "Real",
         "0022",
         null,
         "960",
         "HERRAMIENTAS Y ACCESORIOS PARA TRABAJO",
         "200938.94",
         "103585.43000000001"
        ],
        [
         "26",
         "2015-01-01 00:00:00",
         "1.0",
         "59.0",
         "Real",
         "0023",
         null,
         "305",
         "ACCESORIOS PARA HERRAMIENTAS NEUMATICAS",
         "6397.6",
         "3353.34"
        ],
        [
         "27",
         "2015-01-01 00:00:00",
         "1.0",
         "47.0",
         "Real",
         "0023",
         null,
         "686",
         "HERRAMIENTAS NEUMÁTICAS",
         "15987.21",
         "8931.31"
        ],
        [
         "28",
         "2015-01-01 00:00:00",
         "8.0",
         "82.0",
         "Real",
         "0023",
         null,
         "687",
         "HERRAMIENTAS PARA SOLDAR",
         "115135.16",
         "63253.270000000004"
        ],
        [
         "29",
         "2015-01-01 00:00:00",
         "1.0",
         "10.0",
         "Real",
         "0023",
         null,
         "716",
         "HERRAMIENTA ELÉCTRICA",
         "1006667.95",
         "674478.77"
        ],
        [
         "30",
         "2015-01-01 00:00:00",
         "1.0",
         "14.0",
         "Real",
         "0023",
         null,
         "717",
         "ACCESORIOS PARA HERRAMIENTAS ELÉCTRICAS",
         "432235.18",
         "228552.84"
        ],
        [
         "31",
         "2015-01-01 00:00:00",
         "1.0",
         "47.0",
         "Real",
         "0023",
         null,
         "718",
         "HERRAMIENTAS ESTACIONARIAS",
         "61748.22",
         "36182.41"
        ],
        [
         "32",
         "2015-01-01 00:00:00",
         "1.0",
         "6.0",
         "Real",
         "0023",
         null,
         "719",
         "HERRAMIENTA MANUAL PARA CONSTRUCCIÓN",
         "53347.08",
         "31403.320000000003"
        ],
        [
         "33",
         "2015-01-01 00:00:00",
         "7.0",
         "63.0",
         "Real",
         "0023",
         null,
         "720",
         "HERRAMIENTA MANUAL PARA CORTAR",
         "125792.81",
         "62750.09"
        ],
        [
         "34",
         "2015-01-01 00:00:00",
         "1.0",
         "59.0",
         "Real",
         "0023",
         null,
         "722",
         "HERRAMIENTA MANUAL PARA MEDIR Y MARCAR",
         "86915.97",
         "46642.33"
        ],
        [
         "35",
         "2015-01-01 00:00:00",
         "5.0",
         "46.0",
         "Real",
         "0023",
         null,
         "723",
         "HERRAMIENTA MANUAL PARA UNIR / PEGAR",
         "70574.36",
         "37568.18"
        ],
        [
         "36",
         "2015-01-01 00:00:00",
         "3.0",
         "22.0",
         "Real",
         "0023",
         null,
         "724",
         "CAJAS DE HERRAMIENTAS Y ORGANIZADORES",
         "206367.67",
         "114467.22000000002"
        ],
        [
         "37",
         "2015-01-01 00:00:00",
         "5.0",
         "41.0",
         "Real",
         "0023",
         null,
         "961",
         "GENERADORES DE ENERGÍA",
         "11158.98",
         "8023.69"
        ],
        [
         "38",
         "2015-01-01 00:00:00",
         "1.0",
         "68.0",
         "Real",
         "0024",
         null,
         "962",
         "GRIFERÍA",
         "534220.11",
         "300137.6"
        ],
        [
         "39",
         "2015-01-01 00:00:00",
         "2.0",
         "18.0",
         "Real",
         "0024",
         null,
         "963",
         "EMPAQUES",
         "9100.83",
         "4046.66"
        ],
        [
         "40",
         "2015-01-01 00:00:00",
         "1.0",
         "68.0",
         "Real",
         "0024",
         null,
         "964",
         "TUBERÍA, CONEXIONES Y DRENAJE",
         "447723.18",
         "226192.21"
        ],
        [
         "41",
         "2015-01-01 00:00:00",
         "1.0",
         "14.0",
         "Real",
         "0024",
         null,
         "971",
         "CALENTADORES DE AGUA",
         "1234339.36",
         "816669.2200000001"
        ],
        [
         "42",
         "2015-01-01 00:00:00",
         "5.0",
         "44.0",
         "Real",
         "0024",
         null,
         "972",
         "HERRAMIENTAS DE PLOMERÍA",
         "39603.62",
         "19220.850000000002"
        ],
        [
         "43",
         "2015-01-01 00:00:00",
         "1.0",
         "68.0",
         "Real",
         "0024",
         null,
         "973",
         "LLAVES",
         "184206.95",
         "102142.20000000001"
        ],
        [
         "44",
         "2015-01-01 00:00:00",
         "8.0",
         "83.0",
         "Real",
         "0024",
         null,
         "974",
         "DESAGÜE Y ACCESORIOS",
         "177661.03",
         "94296.45999999999"
        ],
        [
         "45",
         "2015-01-01 00:00:00",
         "1.0",
         "59.0",
         "Real",
         "0024",
         null,
         "980",
         "BOMBAS DE AGUA",
         "113875.03",
         "69468.75"
        ],
        [
         "46",
         "2015-01-01 00:00:00",
         "1.0",
         "59.0",
         "Real",
         "0024",
         null,
         "984",
         "FILTROS",
         "25742.32",
         "14827.81"
        ],
        [
         "47",
         "2015-01-01 00:00:00",
         "7.0",
         "66.0",
         "Real",
         "0024",
         null,
         "985",
         "LAVATRASTOS",
         "80284.24",
         "52217.520000000004"
        ],
        [
         "48",
         "2015-01-01 00:00:00",
         "7.0",
         "66.0",
         "Real",
         "0024",
         null,
         "986",
         "SECADORES Y EXTRACTORES DE BAÑO",
         "14071.07",
         "7696.25"
        ],
        [
         "49",
         "2015-01-01 00:00:00",
         "8.0",
         "73.0",
         "Real",
         "0024",
         null,
         "987",
         "MUEBLES Y ESPEJOS",
         "43397.19",
         "26651.210000000003"
        ]
       ],
       "shape": {
        "columns": 10,
        "rows": 7392
       }
      },
      "text/html": [
       "<div>\n",
       "<style scoped>\n",
       "    .dataframe tbody tr th:only-of-type {\n",
       "        vertical-align: middle;\n",
       "    }\n",
       "\n",
       "    .dataframe tbody tr th {\n",
       "        vertical-align: top;\n",
       "    }\n",
       "\n",
       "    .dataframe thead th {\n",
       "        text-align: right;\n",
       "    }\n",
       "</style>\n",
       "<table border=\"1\" class=\"dataframe\">\n",
       "  <thead>\n",
       "    <tr style=\"text-align: right;\">\n",
       "      <th></th>\n",
       "      <th>Fecha</th>\n",
       "      <th>Número de Vendedor</th>\n",
       "      <th>Número de cliente</th>\n",
       "      <th>Tipo</th>\n",
       "      <th>Departamento - Clave</th>\n",
       "      <th>Departamento</th>\n",
       "      <th>Familia - Clave</th>\n",
       "      <th>Familia</th>\n",
       "      <th>Ventas Netas (Q)</th>\n",
       "      <th>Costo</th>\n",
       "    </tr>\n",
       "  </thead>\n",
       "  <tbody>\n",
       "    <tr>\n",
       "      <th>0</th>\n",
       "      <td>2015-01-01</td>\n",
       "      <td>7.0</td>\n",
       "      <td>66.0</td>\n",
       "      <td>Real</td>\n",
       "      <td>0021</td>\n",
       "      <td>None</td>\n",
       "      <td>328</td>\n",
       "      <td>TRATAMIENTO DE CONCRETO</td>\n",
       "      <td>31740.12</td>\n",
       "      <td>22046.54</td>\n",
       "    </tr>\n",
       "    <tr>\n",
       "      <th>1</th>\n",
       "      <td>2015-01-01</td>\n",
       "      <td>5.0</td>\n",
       "      <td>45.0</td>\n",
       "      <td>Real</td>\n",
       "      <td>0021</td>\n",
       "      <td>None</td>\n",
       "      <td>370</td>\n",
       "      <td>PINTURAS DECORATIVAS</td>\n",
       "      <td>2377.30</td>\n",
       "      <td>1761.35</td>\n",
       "    </tr>\n",
       "    <tr>\n",
       "      <th>2</th>\n",
       "      <td>2015-01-01</td>\n",
       "      <td>8.0</td>\n",
       "      <td>75.0</td>\n",
       "      <td>Real</td>\n",
       "      <td>None</td>\n",
       "      <td>Pinturas</td>\n",
       "      <td>371</td>\n",
       "      <td>BARNICES ARQUITECTÓNICOS</td>\n",
       "      <td>20422.48</td>\n",
       "      <td>13189.05</td>\n",
       "    </tr>\n",
       "    <tr>\n",
       "      <th>3</th>\n",
       "      <td>2015-01-01</td>\n",
       "      <td>6.0</td>\n",
       "      <td>57.0</td>\n",
       "      <td>Real</td>\n",
       "      <td>0021</td>\n",
       "      <td>None</td>\n",
       "      <td>372</td>\n",
       "      <td>PINTURA AUTOMOTRIZ</td>\n",
       "      <td>719.80</td>\n",
       "      <td>668.40</td>\n",
       "    </tr>\n",
       "    <tr>\n",
       "      <th>4</th>\n",
       "      <td>2015-01-01</td>\n",
       "      <td>7.0</td>\n",
       "      <td>62.0</td>\n",
       "      <td>Real</td>\n",
       "      <td>0021</td>\n",
       "      <td>None</td>\n",
       "      <td>376</td>\n",
       "      <td>TINTES PARA MADERA</td>\n",
       "      <td>15589.78</td>\n",
       "      <td>10835.03</td>\n",
       "    </tr>\n",
       "    <tr>\n",
       "      <th>...</th>\n",
       "      <td>...</td>\n",
       "      <td>...</td>\n",
       "      <td>...</td>\n",
       "      <td>...</td>\n",
       "      <td>...</td>\n",
       "      <td>...</td>\n",
       "      <td>...</td>\n",
       "      <td>...</td>\n",
       "      <td>...</td>\n",
       "      <td>...</td>\n",
       "    </tr>\n",
       "    <tr>\n",
       "      <th>7409</th>\n",
       "      <td>2016-12-01</td>\n",
       "      <td>4.0</td>\n",
       "      <td>36.0</td>\n",
       "      <td>Real</td>\n",
       "      <td>0050</td>\n",
       "      <td>None</td>\n",
       "      <td>527</td>\n",
       "      <td>Puertas</td>\n",
       "      <td>12490.53</td>\n",
       "      <td>9547.57</td>\n",
       "    </tr>\n",
       "    <tr>\n",
       "      <th>7410</th>\n",
       "      <td>2016-12-01</td>\n",
       "      <td>1.0</td>\n",
       "      <td>47.0</td>\n",
       "      <td>Real</td>\n",
       "      <td>0050</td>\n",
       "      <td>None</td>\n",
       "      <td>528</td>\n",
       "      <td>Ventanas</td>\n",
       "      <td>11183.92</td>\n",
       "      <td>7751.78</td>\n",
       "    </tr>\n",
       "    <tr>\n",
       "      <th>7411</th>\n",
       "      <td>2016-12-01</td>\n",
       "      <td>1.0</td>\n",
       "      <td>68.0</td>\n",
       "      <td>Real</td>\n",
       "      <td>0050</td>\n",
       "      <td>None</td>\n",
       "      <td>529</td>\n",
       "      <td>Techos</td>\n",
       "      <td>67611.21</td>\n",
       "      <td>51465.89</td>\n",
       "    </tr>\n",
       "    <tr>\n",
       "      <th>7412</th>\n",
       "      <td>2016-12-01</td>\n",
       "      <td>4.0</td>\n",
       "      <td>35.0</td>\n",
       "      <td>Real</td>\n",
       "      <td>0050</td>\n",
       "      <td>None</td>\n",
       "      <td>530</td>\n",
       "      <td>Tabicación</td>\n",
       "      <td>13373.82</td>\n",
       "      <td>10981.85</td>\n",
       "    </tr>\n",
       "    <tr>\n",
       "      <th>7413</th>\n",
       "      <td>2016-12-01</td>\n",
       "      <td>1.0</td>\n",
       "      <td>1.0</td>\n",
       "      <td>Real</td>\n",
       "      <td>0050</td>\n",
       "      <td>None</td>\n",
       "      <td>549</td>\n",
       "      <td>Cielo Suspendido</td>\n",
       "      <td>7477.19</td>\n",
       "      <td>5863.33</td>\n",
       "    </tr>\n",
       "  </tbody>\n",
       "</table>\n",
       "<p>7392 rows × 10 columns</p>\n",
       "</div>"
      ],
      "text/plain": [
       "          Fecha  Número de Vendedor  Número de cliente  Tipo  \\\n",
       "0    2015-01-01                 7.0               66.0  Real   \n",
       "1    2015-01-01                 5.0               45.0  Real   \n",
       "2    2015-01-01                 8.0               75.0  Real   \n",
       "3    2015-01-01                 6.0               57.0  Real   \n",
       "4    2015-01-01                 7.0               62.0  Real   \n",
       "...         ...                 ...                ...   ...   \n",
       "7409 2016-12-01                 4.0               36.0  Real   \n",
       "7410 2016-12-01                 1.0               47.0  Real   \n",
       "7411 2016-12-01                 1.0               68.0  Real   \n",
       "7412 2016-12-01                 4.0               35.0  Real   \n",
       "7413 2016-12-01                 1.0                1.0  Real   \n",
       "\n",
       "     Departamento - Clave Departamento Familia - Clave  \\\n",
       "0                    0021         None             328   \n",
       "1                    0021         None             370   \n",
       "2                    None     Pinturas             371   \n",
       "3                    0021         None             372   \n",
       "4                    0021         None             376   \n",
       "...                   ...          ...             ...   \n",
       "7409                 0050         None             527   \n",
       "7410                 0050         None             528   \n",
       "7411                 0050         None             529   \n",
       "7412                 0050         None             530   \n",
       "7413                 0050         None             549   \n",
       "\n",
       "                       Familia  Ventas Netas (Q)     Costo  \n",
       "0      TRATAMIENTO DE CONCRETO          31740.12  22046.54  \n",
       "1         PINTURAS DECORATIVAS           2377.30   1761.35  \n",
       "2     BARNICES ARQUITECTÓNICOS          20422.48  13189.05  \n",
       "3           PINTURA AUTOMOTRIZ            719.80    668.40  \n",
       "4           TINTES PARA MADERA          15589.78  10835.03  \n",
       "...                        ...               ...       ...  \n",
       "7409                   Puertas          12490.53   9547.57  \n",
       "7410                  Ventanas          11183.92   7751.78  \n",
       "7411                    Techos          67611.21  51465.89  \n",
       "7412                Tabicación          13373.82  10981.85  \n",
       "7413          Cielo Suspendido           7477.19   5863.33  \n",
       "\n",
       "[7392 rows x 10 columns]"
      ]
     },
     "execution_count": 3,
     "metadata": {},
     "output_type": "execute_result"
    }
   ],
   "source": [
    "df = df.dropna(axis=1, how='all').dropna(axis=0, how='all')\n",
    "df"
   ]
  },
  {
   "cell_type": "code",
   "execution_count": 4,
   "id": "c0006f1d",
   "metadata": {},
   "outputs": [
    {
     "name": "stdout",
     "output_type": "stream",
     "text": [
      "Unique days: [1]\n"
     ]
    }
   ],
   "source": [
    "unique_days_only = df['Fecha'].dt.day.unique()\n",
    "print(f\"Unique days: {unique_days_only}\")"
   ]
  },
  {
   "cell_type": "markdown",
   "id": "83877279",
   "metadata": {},
   "source": [
    "Entries in the Date column are only month-year"
   ]
  },
  {
   "cell_type": "code",
   "execution_count": 5,
   "id": "3cdab740",
   "metadata": {},
   "outputs": [],
   "source": [
    "df[\"Fecha\"] = pd.to_datetime(df[\"Fecha\"])\n",
    "df[\"Año\"] = df[\"Fecha\"].dt.year\n",
    "df[\"Mes\"] = df[\"Fecha\"].dt.month"
   ]
  },
  {
   "cell_type": "markdown",
   "id": "69790dec",
   "metadata": {},
   "source": [
    "check if there are any blank cells or whitespaces "
   ]
  },
  {
   "cell_type": "code",
   "execution_count": 6,
   "id": "7a603eb2",
   "metadata": {},
   "outputs": [],
   "source": [
    "assert df.replace(r'^\\s*$', pd.NA, regex=True).isna().sum().sum() >= df.isna().sum().sum(), \"Blank spaces replacement reduced NA count, which should not happen.\""
   ]
  },
  {
   "cell_type": "code",
   "execution_count": 7,
   "id": "e43b7055",
   "metadata": {},
   "outputs": [
    {
     "name": "stdout",
     "output_type": "stream",
     "text": [
      "<class 'pandas.core.frame.DataFrame'>\n",
      "Index: 7392 entries, 0 to 7413\n",
      "Data columns (total 12 columns):\n",
      " #   Column                Non-Null Count  Dtype         \n",
      "---  ------                --------------  -----         \n",
      " 0   Fecha                 7392 non-null   datetime64[ns]\n",
      " 1   Número de Vendedor    7392 non-null   float64       \n",
      " 2   Número de cliente     7392 non-null   float64       \n",
      " 3   Tipo                  7392 non-null   object        \n",
      " 4   Departamento - Clave  7387 non-null   object        \n",
      " 5   Departamento          5 non-null      object        \n",
      " 6   Familia - Clave       7392 non-null   object        \n",
      " 7   Familia               7392 non-null   object        \n",
      " 8   Ventas Netas (Q)      7392 non-null   float64       \n",
      " 9   Costo                 7392 non-null   float64       \n",
      " 10  Año                   7392 non-null   int32         \n",
      " 11  Mes                   7392 non-null   int32         \n",
      "dtypes: datetime64[ns](1), float64(4), int32(2), object(5)\n",
      "memory usage: 693.0+ KB\n"
     ]
    }
   ],
   "source": [
    "df.info()"
   ]
  },
  {
   "cell_type": "markdown",
   "id": "6784f920",
   "metadata": {},
   "source": [
    "Check if non-nulls in Departamento match nulls in Departamento - Clave\n",
    "\n",
    "\n",
    "-> Find rows where 'Departamento' is not null and 'Departamento - Clave' is null"
   ]
  },
  {
   "cell_type": "code",
   "execution_count": 8,
   "id": "86e7f073",
   "metadata": {},
   "outputs": [
    {
     "data": {
      "application/vnd.microsoft.datawrangler.viewer.v0+json": {
       "columns": [
        {
         "name": "index",
         "rawType": "int64",
         "type": "integer"
        },
        {
         "name": "Departamento",
         "rawType": "object",
         "type": "string"
        },
        {
         "name": "Departamento - Clave",
         "rawType": "object",
         "type": "unknown"
        }
       ],
       "ref": "32f67473-fd9a-49ec-9745-2794e5433831",
       "rows": [
        [
         "2",
         "Pinturas",
         null
        ],
        [
         "4340",
         "Plomería",
         null
        ],
        [
         "4341",
         "Plomería",
         null
        ],
        [
         "4342",
         "Plomería",
         null
        ],
        [
         "5448",
         "Juguetes",
         null
        ]
       ],
       "shape": {
        "columns": 2,
        "rows": 5
       }
      },
      "text/html": [
       "<div>\n",
       "<style scoped>\n",
       "    .dataframe tbody tr th:only-of-type {\n",
       "        vertical-align: middle;\n",
       "    }\n",
       "\n",
       "    .dataframe tbody tr th {\n",
       "        vertical-align: top;\n",
       "    }\n",
       "\n",
       "    .dataframe thead th {\n",
       "        text-align: right;\n",
       "    }\n",
       "</style>\n",
       "<table border=\"1\" class=\"dataframe\">\n",
       "  <thead>\n",
       "    <tr style=\"text-align: right;\">\n",
       "      <th></th>\n",
       "      <th>Departamento</th>\n",
       "      <th>Departamento - Clave</th>\n",
       "    </tr>\n",
       "  </thead>\n",
       "  <tbody>\n",
       "    <tr>\n",
       "      <th>2</th>\n",
       "      <td>Pinturas</td>\n",
       "      <td>None</td>\n",
       "    </tr>\n",
       "    <tr>\n",
       "      <th>4340</th>\n",
       "      <td>Plomería</td>\n",
       "      <td>None</td>\n",
       "    </tr>\n",
       "    <tr>\n",
       "      <th>4341</th>\n",
       "      <td>Plomería</td>\n",
       "      <td>None</td>\n",
       "    </tr>\n",
       "    <tr>\n",
       "      <th>4342</th>\n",
       "      <td>Plomería</td>\n",
       "      <td>None</td>\n",
       "    </tr>\n",
       "    <tr>\n",
       "      <th>5448</th>\n",
       "      <td>Juguetes</td>\n",
       "      <td>None</td>\n",
       "    </tr>\n",
       "  </tbody>\n",
       "</table>\n",
       "</div>"
      ],
      "text/plain": [
       "     Departamento Departamento - Clave\n",
       "2        Pinturas                 None\n",
       "4340     Plomería                 None\n",
       "4341     Plomería                 None\n",
       "4342     Plomería                 None\n",
       "5448     Juguetes                 None"
      ]
     },
     "execution_count": 8,
     "metadata": {},
     "output_type": "execute_result"
    }
   ],
   "source": [
    "mask = df['Departamento'].notna() & df['Departamento - Clave'].isna()\n",
    "df[mask][['Departamento', 'Departamento - Clave']]"
   ]
  },
  {
   "cell_type": "markdown",
   "id": "58581438",
   "metadata": {},
   "source": [
    "As all entries match, it is safe to change them using the dictionary. "
   ]
  },
  {
   "cell_type": "markdown",
   "id": "1434c358",
   "metadata": {},
   "source": [
    "## Load dictionaries"
   ]
  },
  {
   "cell_type": "code",
   "execution_count": 9,
   "id": "ac5e4690",
   "metadata": {},
   "outputs": [],
   "source": [
    "# Open the database from the second sheet of the .xlsb file\n",
    "with pyxlsb.open_workbook('BC LCG 2017 CN.xlsb') as wb:\n",
    "    with wb.get_sheet(2) as sheet:\n",
    "        data = []\n",
    "        for row in sheet.rows():\n",
    "            data.append([item.v for item in row])\n",
    "\n",
    "# Skip the first empty row and use the second row as header \n",
    "depa = pd.DataFrame(data[2:], columns=data[1])\n",
    "\n",
    "# Drop empty columns and rows\n",
    "depa = depa.dropna(axis=1, how='all').dropna(axis=0, how='all')\n",
    "\n",
    "# Save the dictionary of sellers\n",
    "sellers = depa[['No. Vendedor', 'Nombre', 'Apellido']]\n",
    "\n",
    "# Keep only columns that belong to the 'Departamento' dictionary\n",
    "depa = depa[['Departamento - Clave', 'Departamento']]"
   ]
  },
  {
   "cell_type": "markdown",
   "id": "8a50e0c2",
   "metadata": {},
   "source": [
    "Map null values in 'Departamento - Clave' in df using depa as a dictionary"
   ]
  },
  {
   "cell_type": "code",
   "execution_count": 10,
   "id": "d0065db5",
   "metadata": {},
   "outputs": [],
   "source": [
    "df.loc[mask, 'Departamento - Clave'] = df.loc[mask, 'Departamento'].map(\n",
    "    depa.set_index('Departamento')['Departamento - Clave']\n",
    ")"
   ]
  },
  {
   "cell_type": "markdown",
   "id": "a8fc318b",
   "metadata": {},
   "source": [
    "Check changed values and delete now unuseful column"
   ]
  },
  {
   "cell_type": "code",
   "execution_count": 11,
   "id": "f1781070",
   "metadata": {},
   "outputs": [
    {
     "data": {
      "application/vnd.microsoft.datawrangler.viewer.v0+json": {
       "columns": [
        {
         "name": "index",
         "rawType": "int64",
         "type": "integer"
        },
        {
         "name": "Fecha",
         "rawType": "datetime64[ns]",
         "type": "datetime"
        },
        {
         "name": "Número de Vendedor",
         "rawType": "float64",
         "type": "float"
        },
        {
         "name": "Número de cliente",
         "rawType": "float64",
         "type": "float"
        },
        {
         "name": "Tipo",
         "rawType": "object",
         "type": "string"
        },
        {
         "name": "Departamento - Clave",
         "rawType": "object",
         "type": "string"
        },
        {
         "name": "Departamento",
         "rawType": "object",
         "type": "string"
        },
        {
         "name": "Familia - Clave",
         "rawType": "object",
         "type": "string"
        },
        {
         "name": "Familia",
         "rawType": "object",
         "type": "string"
        },
        {
         "name": "Ventas Netas (Q)",
         "rawType": "float64",
         "type": "float"
        },
        {
         "name": "Costo",
         "rawType": "float64",
         "type": "float"
        },
        {
         "name": "Año",
         "rawType": "int32",
         "type": "integer"
        },
        {
         "name": "Mes",
         "rawType": "int32",
         "type": "integer"
        }
       ],
       "ref": "95ca7ff0-0b78-46b0-b995-d708011730ae",
       "rows": [
        [
         "2",
         "2015-01-01 00:00:00",
         "8.0",
         "75.0",
         "Real",
         "0021",
         "Pinturas",
         "371",
         "BARNICES ARQUITECTÓNICOS",
         "20422.48",
         "13189.05",
         "2015",
         "1"
        ],
        [
         "4340",
         "2016-03-01 00:00:00",
         "3.0",
         "27.0",
         "Real",
         "0024",
         "Plomería",
         "963",
         "EMPAQUES",
         "11811.43",
         "4923.92",
         "2016",
         "3"
        ],
        [
         "4341",
         "2016-03-01 00:00:00",
         "6.0",
         "52.0",
         "Real",
         "0024",
         "Plomería",
         "964",
         "TUBERÍA, CONEXIONES Y DRENAJE",
         "662548.79",
         "330311.75000000006",
         "2016",
         "3"
        ],
        [
         "4342",
         "2016-03-01 00:00:00",
         "3.0",
         "25.0",
         "Real",
         "0024",
         "Plomería",
         "971",
         "CALENTADORES DE AGUA",
         "1190755.27",
         "759981.72",
         "2016",
         "3"
        ],
        [
         "5448",
         "2016-06-01 00:00:00",
         "1.0",
         "81.0",
         "Real",
         "0001",
         "Juguetes",
         "921",
         "Libros",
         "1356.95",
         "1114.3",
         "2016",
         "6"
        ]
       ],
       "shape": {
        "columns": 12,
        "rows": 5
       }
      },
      "text/html": [
       "<div>\n",
       "<style scoped>\n",
       "    .dataframe tbody tr th:only-of-type {\n",
       "        vertical-align: middle;\n",
       "    }\n",
       "\n",
       "    .dataframe tbody tr th {\n",
       "        vertical-align: top;\n",
       "    }\n",
       "\n",
       "    .dataframe thead th {\n",
       "        text-align: right;\n",
       "    }\n",
       "</style>\n",
       "<table border=\"1\" class=\"dataframe\">\n",
       "  <thead>\n",
       "    <tr style=\"text-align: right;\">\n",
       "      <th></th>\n",
       "      <th>Fecha</th>\n",
       "      <th>Número de Vendedor</th>\n",
       "      <th>Número de cliente</th>\n",
       "      <th>Tipo</th>\n",
       "      <th>Departamento - Clave</th>\n",
       "      <th>Departamento</th>\n",
       "      <th>Familia - Clave</th>\n",
       "      <th>Familia</th>\n",
       "      <th>Ventas Netas (Q)</th>\n",
       "      <th>Costo</th>\n",
       "      <th>Año</th>\n",
       "      <th>Mes</th>\n",
       "    </tr>\n",
       "  </thead>\n",
       "  <tbody>\n",
       "    <tr>\n",
       "      <th>2</th>\n",
       "      <td>2015-01-01</td>\n",
       "      <td>8.0</td>\n",
       "      <td>75.0</td>\n",
       "      <td>Real</td>\n",
       "      <td>0021</td>\n",
       "      <td>Pinturas</td>\n",
       "      <td>371</td>\n",
       "      <td>BARNICES ARQUITECTÓNICOS</td>\n",
       "      <td>20422.48</td>\n",
       "      <td>13189.05</td>\n",
       "      <td>2015</td>\n",
       "      <td>1</td>\n",
       "    </tr>\n",
       "    <tr>\n",
       "      <th>4340</th>\n",
       "      <td>2016-03-01</td>\n",
       "      <td>3.0</td>\n",
       "      <td>27.0</td>\n",
       "      <td>Real</td>\n",
       "      <td>0024</td>\n",
       "      <td>Plomería</td>\n",
       "      <td>963</td>\n",
       "      <td>EMPAQUES</td>\n",
       "      <td>11811.43</td>\n",
       "      <td>4923.92</td>\n",
       "      <td>2016</td>\n",
       "      <td>3</td>\n",
       "    </tr>\n",
       "    <tr>\n",
       "      <th>4341</th>\n",
       "      <td>2016-03-01</td>\n",
       "      <td>6.0</td>\n",
       "      <td>52.0</td>\n",
       "      <td>Real</td>\n",
       "      <td>0024</td>\n",
       "      <td>Plomería</td>\n",
       "      <td>964</td>\n",
       "      <td>TUBERÍA, CONEXIONES Y DRENAJE</td>\n",
       "      <td>662548.79</td>\n",
       "      <td>330311.75</td>\n",
       "      <td>2016</td>\n",
       "      <td>3</td>\n",
       "    </tr>\n",
       "    <tr>\n",
       "      <th>4342</th>\n",
       "      <td>2016-03-01</td>\n",
       "      <td>3.0</td>\n",
       "      <td>25.0</td>\n",
       "      <td>Real</td>\n",
       "      <td>0024</td>\n",
       "      <td>Plomería</td>\n",
       "      <td>971</td>\n",
       "      <td>CALENTADORES DE AGUA</td>\n",
       "      <td>1190755.27</td>\n",
       "      <td>759981.72</td>\n",
       "      <td>2016</td>\n",
       "      <td>3</td>\n",
       "    </tr>\n",
       "    <tr>\n",
       "      <th>5448</th>\n",
       "      <td>2016-06-01</td>\n",
       "      <td>1.0</td>\n",
       "      <td>81.0</td>\n",
       "      <td>Real</td>\n",
       "      <td>0001</td>\n",
       "      <td>Juguetes</td>\n",
       "      <td>921</td>\n",
       "      <td>Libros</td>\n",
       "      <td>1356.95</td>\n",
       "      <td>1114.30</td>\n",
       "      <td>2016</td>\n",
       "      <td>6</td>\n",
       "    </tr>\n",
       "  </tbody>\n",
       "</table>\n",
       "</div>"
      ],
      "text/plain": [
       "          Fecha  Número de Vendedor  Número de cliente  Tipo  \\\n",
       "2    2015-01-01                 8.0               75.0  Real   \n",
       "4340 2016-03-01                 3.0               27.0  Real   \n",
       "4341 2016-03-01                 6.0               52.0  Real   \n",
       "4342 2016-03-01                 3.0               25.0  Real   \n",
       "5448 2016-06-01                 1.0               81.0  Real   \n",
       "\n",
       "     Departamento - Clave Departamento Familia - Clave  \\\n",
       "2                    0021     Pinturas             371   \n",
       "4340                 0024     Plomería             963   \n",
       "4341                 0024     Plomería             964   \n",
       "4342                 0024     Plomería             971   \n",
       "5448                 0001     Juguetes             921   \n",
       "\n",
       "                            Familia  Ventas Netas (Q)      Costo   Año  Mes  \n",
       "2          BARNICES ARQUITECTÓNICOS          20422.48   13189.05  2015    1  \n",
       "4340                       EMPAQUES          11811.43    4923.92  2016    3  \n",
       "4341  TUBERÍA, CONEXIONES Y DRENAJE         662548.79  330311.75  2016    3  \n",
       "4342           CALENTADORES DE AGUA        1190755.27  759981.72  2016    3  \n",
       "5448                         Libros           1356.95    1114.30  2016    6  "
      ]
     },
     "execution_count": 11,
     "metadata": {},
     "output_type": "execute_result"
    }
   ],
   "source": [
    "df[mask]"
   ]
  },
  {
   "cell_type": "code",
   "execution_count": 12,
   "id": "94181f64",
   "metadata": {},
   "outputs": [],
   "source": [
    "df.drop(columns=['Departamento'], inplace=True)"
   ]
  },
  {
   "cell_type": "markdown",
   "id": "c5b6e49e",
   "metadata": {},
   "source": [
    "# Profiling"
   ]
  },
  {
   "cell_type": "markdown",
   "id": "db86763c",
   "metadata": {},
   "source": [
    "To deeply understand relationships between variables, the tool pandas profiling gives a very complete summary of what to look after when working with these variables. "
   ]
  },
  {
   "cell_type": "code",
   "execution_count": 13,
   "id": "a9e8aec4",
   "metadata": {},
   "outputs": [],
   "source": [
    "# from ydata_profiling import ProfileReport\n",
    "# profile_report = ProfileReport(df, title=\"Profiling Report\")\n",
    "# profile_report.to_file(\"Profile_report.html\")"
   ]
  },
  {
   "cell_type": "markdown",
   "id": "6b220534",
   "metadata": {},
   "source": [
    "Interesting points that came out of this: \n",
    "- `Tipo` has a constant value: all entries are \"Real\"\n",
    "- Dataset has 1 duplicate row \n",
    "- `Costo` and `Ventas Netas (Q)` are highly correlated overall. "
   ]
  },
  {
   "cell_type": "markdown",
   "id": "06fa88cf",
   "metadata": {},
   "source": [
    "# Análisis de datos \n",
    "(Ahora en español para consistencia de respuestas)\n",
    "\n",
    "- Expresar los resultados en dólares americanos y utilizar el tipo de cambio 1 USD = Q 7.5 dónde la Q es el símbolo de la moneda oficial de Guatemala, el Quetzal. \n"
   ]
  },
  {
   "cell_type": "code",
   "execution_count": 14,
   "id": "b1760a45",
   "metadata": {},
   "outputs": [],
   "source": [
    "df['Ventas Netas (USD)'] = df['Ventas Netas (Q)'] / 7.5\n",
    "df['Costo (USD)'] = df['Costo'] / 7.5"
   ]
  },
  {
   "cell_type": "code",
   "execution_count": 15,
   "id": "811ebaaf",
   "metadata": {},
   "outputs": [],
   "source": [
    "df.to_csv('BD_LCG_2017_CN.csv', index=False)"
   ]
  },
  {
   "cell_type": "code",
   "execution_count": 16,
   "id": "9dc3cb0c",
   "metadata": {},
   "outputs": [
    {
     "data": {
      "text/plain": [
       "array(['0021', '0022', '0023', '0024', '0025', '0026', '0027', '0028',\n",
       "       '0030', '0058', '2247', '2248', '0002', '0003', '0004', '0005',\n",
       "       '0008', '0009', '0010', '0015', '0042', '0059', '0806', '0807',\n",
       "       '2249', '2250', '0001', '0007', '0012', '2251', '0011', '0050'],\n",
       "      dtype=object)"
      ]
     },
     "execution_count": 16,
     "metadata": {},
     "output_type": "execute_result"
    }
   ],
   "source": [
    "df['Departamento - Clave'].unique()"
   ]
  },
  {
   "cell_type": "markdown",
   "id": "162ea3f5",
   "metadata": {},
   "source": [
    "## Pareto ABC por departamentos"
   ]
  },
  {
   "cell_type": "code",
   "execution_count": 17,
   "id": "26af839d",
   "metadata": {},
   "outputs": [],
   "source": [
    "# Cambiar la visualización de pandas para no usar notación científica\n",
    "pd.set_option('display.float_format', '{:,.2f}'.format)"
   ]
  },
  {
   "cell_type": "code",
   "execution_count": 18,
   "id": "1b0ec9ce",
   "metadata": {},
   "outputs": [],
   "source": [
    "# Agrupar las ventas netas por departamento\n",
    "ventas_por_departamento = df.groupby(\"Departamento - Clave\")[\"Ventas Netas (USD)\"].sum().sort_values(ascending=False)\n",
    "\n",
    "# Calcular el porcentaje acumulado\n",
    "ventas_acumuladas = ventas_por_departamento.cumsum()\n",
    "ventas_totales = ventas_por_departamento.sum()\n",
    "porcentaje_acumulado = ventas_acumuladas / ventas_totales"
   ]
  },
  {
   "cell_type": "code",
   "execution_count": 19,
   "id": "0ed8f88e",
   "metadata": {},
   "outputs": [],
   "source": [
    "# Clasificar en A, B y C\n",
    "def clasificacion_abc(pct):\n",
    "    if pct <= 0.8:\n",
    "        return 'A'\n",
    "    elif pct <= 0.95:\n",
    "        return 'B'\n",
    "    else:\n",
    "        return 'C'\n",
    "\n",
    "clasificacion_dpto = porcentaje_acumulado.apply(clasificacion_abc)"
   ]
  },
  {
   "cell_type": "markdown",
   "id": "b4a2f9ef",
   "metadata": {},
   "source": [
    "Comprobar resultados"
   ]
  },
  {
   "cell_type": "code",
   "execution_count": 20,
   "id": "77b770f8",
   "metadata": {},
   "outputs": [
    {
     "data": {
      "application/vnd.microsoft.datawrangler.viewer.v0+json": {
       "columns": [
        {
         "name": "Departamento - Clave",
         "rawType": "object",
         "type": "string"
        },
        {
         "name": "Ventas Netas (USD)",
         "rawType": "float64",
         "type": "float"
        },
        {
         "name": "Ventas Acumuladas",
         "rawType": "float64",
         "type": "float"
        },
        {
         "name": "Porcentaje Acumulado",
         "rawType": "float64",
         "type": "float"
        },
        {
         "name": "Clasificación",
         "rawType": "object",
         "type": "string"
        }
       ],
       "ref": "0c83c53e-21c4-4f7e-a75c-1955d7e3deab",
       "rows": [
        [
         "0001",
         "20274844.594666667",
         "20274844.594666667",
         "0.08636695049722592",
         "A"
        ],
        [
         "0022",
         "13653840.733333332",
         "33928685.328",
         "0.14452969404905608",
         "A"
        ],
        [
         "0005",
         "13540891.313333333",
         "47469576.641333334",
         "0.20221129472848184",
         "A"
        ],
        [
         "0008",
         "12903730.014666667",
         "60373306.656",
         "0.2571787104441833",
         "A"
        ],
        [
         "0003",
         "12539779.334666668",
         "72913085.99066667",
         "0.3105957660465815",
         "A"
        ],
        [
         "0002",
         "11895221.249333333",
         "84808307.24000001",
         "0.361267127792307",
         "A"
        ],
        [
         "0009",
         "11810286.926666666",
         "96618594.16666667",
         "0.41157668560868466",
         "A"
        ],
        [
         "0023",
         "11283274.289333334",
         "107901868.456",
         "0.45964127063883664",
         "A"
        ],
        [
         "0025",
         "10472857.658666667",
         "118374726.11466667",
         "0.5042536362107282",
         "A"
        ],
        [
         "0024",
         "9942731.372",
         "128317457.48666666",
         "0.5466077654472417",
         "A"
        ],
        [
         "0021",
         "8371818.170666667",
         "136689275.65733334",
         "0.5822701056512176",
         "A"
        ],
        [
         "2250",
         "8035868.596",
         "144725144.25333333",
         "0.6165013650817096",
         "A"
        ],
        [
         "0007",
         "7772727.444",
         "152497871.69733334",
         "0.6496116936590722",
         "A"
        ],
        [
         "0004",
         "7136851.158666667",
         "159634722.856",
         "0.6800133111831235",
         "A"
        ],
        [
         "0030",
         "6362343.618666667",
         "165997066.47466668",
         "0.7071156750899853",
         "A"
        ],
        [
         "0027",
         "6231829.674666666",
         "172228896.14933336",
         "0.7336620746200049",
         "A"
        ],
        [
         "0058",
         "6198786.805333333",
         "178427682.9546667",
         "0.7600677178622675",
         "A"
        ],
        [
         "0807",
         "6103271.953333333",
         "184530954.90800005",
         "0.7860664861489209",
         "A"
        ],
        [
         "0010",
         "5969592.922666667",
         "190500547.83066672",
         "0.8114958073964025",
         "B"
        ],
        [
         "0026",
         "5904473.710666667",
         "196405021.54133338",
         "0.8366477332866489",
         "B"
        ],
        [
         "0050",
         "5575252.374666667",
         "201980273.91600004",
         "0.8603972394100665",
         "B"
        ],
        [
         "0011",
         "4686907.194666667",
         "206667181.1106667",
         "0.8803625653969965",
         "B"
        ],
        [
         "0028",
         "4503140.248",
         "211170321.3586667",
         "0.8995450794263957",
         "B"
        ],
        [
         "0042",
         "4408223.698666667",
         "215578545.05733335",
         "0.918323267154828",
         "B"
        ],
        [
         "2249",
         "4308996.498666666",
         "219887541.55600002",
         "0.9366787660369729",
         "B"
        ],
        [
         "0806",
         "4201449.06",
         "224088990.61600003",
         "0.9545761334514234",
         "C"
        ],
        [
         "0015",
         "3382987.109333333",
         "227471977.72533336",
         "0.9689870098870143",
         "C"
        ],
        [
         "0059",
         "2671787.072",
         "230143764.79733336",
         "0.9803683105282656",
         "C"
        ],
        [
         "2247",
         "1840515.6093333333",
         "231984280.4066667",
         "0.9882085541256187",
         "C"
        ],
        [
         "2248",
         "1791032.48",
         "233775312.8866667",
         "0.9958380090798516",
         "C"
        ],
        [
         "2251",
         "491337.26666666666",
         "234266650.15333337",
         "0.9979310116273931",
         "C"
        ],
        [
         "0012",
         "485699.88266666664",
         "234752350.03600004",
         "1.0000000000000002",
         "C"
        ]
       ],
       "shape": {
        "columns": 4,
        "rows": 32
       }
      },
      "text/html": [
       "<div>\n",
       "<style scoped>\n",
       "    .dataframe tbody tr th:only-of-type {\n",
       "        vertical-align: middle;\n",
       "    }\n",
       "\n",
       "    .dataframe tbody tr th {\n",
       "        vertical-align: top;\n",
       "    }\n",
       "\n",
       "    .dataframe thead th {\n",
       "        text-align: right;\n",
       "    }\n",
       "</style>\n",
       "<table border=\"1\" class=\"dataframe\">\n",
       "  <thead>\n",
       "    <tr style=\"text-align: right;\">\n",
       "      <th></th>\n",
       "      <th>Ventas Netas (USD)</th>\n",
       "      <th>Ventas Acumuladas</th>\n",
       "      <th>Porcentaje Acumulado</th>\n",
       "      <th>Clasificación</th>\n",
       "    </tr>\n",
       "    <tr>\n",
       "      <th>Departamento - Clave</th>\n",
       "      <th></th>\n",
       "      <th></th>\n",
       "      <th></th>\n",
       "      <th></th>\n",
       "    </tr>\n",
       "  </thead>\n",
       "  <tbody>\n",
       "    <tr>\n",
       "      <th>0001</th>\n",
       "      <td>20,274,844.59</td>\n",
       "      <td>20,274,844.59</td>\n",
       "      <td>0.09</td>\n",
       "      <td>A</td>\n",
       "    </tr>\n",
       "    <tr>\n",
       "      <th>0022</th>\n",
       "      <td>13,653,840.73</td>\n",
       "      <td>33,928,685.33</td>\n",
       "      <td>0.14</td>\n",
       "      <td>A</td>\n",
       "    </tr>\n",
       "    <tr>\n",
       "      <th>0005</th>\n",
       "      <td>13,540,891.31</td>\n",
       "      <td>47,469,576.64</td>\n",
       "      <td>0.20</td>\n",
       "      <td>A</td>\n",
       "    </tr>\n",
       "    <tr>\n",
       "      <th>0008</th>\n",
       "      <td>12,903,730.01</td>\n",
       "      <td>60,373,306.66</td>\n",
       "      <td>0.26</td>\n",
       "      <td>A</td>\n",
       "    </tr>\n",
       "    <tr>\n",
       "      <th>0003</th>\n",
       "      <td>12,539,779.33</td>\n",
       "      <td>72,913,085.99</td>\n",
       "      <td>0.31</td>\n",
       "      <td>A</td>\n",
       "    </tr>\n",
       "    <tr>\n",
       "      <th>0002</th>\n",
       "      <td>11,895,221.25</td>\n",
       "      <td>84,808,307.24</td>\n",
       "      <td>0.36</td>\n",
       "      <td>A</td>\n",
       "    </tr>\n",
       "    <tr>\n",
       "      <th>0009</th>\n",
       "      <td>11,810,286.93</td>\n",
       "      <td>96,618,594.17</td>\n",
       "      <td>0.41</td>\n",
       "      <td>A</td>\n",
       "    </tr>\n",
       "    <tr>\n",
       "      <th>0023</th>\n",
       "      <td>11,283,274.29</td>\n",
       "      <td>107,901,868.46</td>\n",
       "      <td>0.46</td>\n",
       "      <td>A</td>\n",
       "    </tr>\n",
       "    <tr>\n",
       "      <th>0025</th>\n",
       "      <td>10,472,857.66</td>\n",
       "      <td>118,374,726.11</td>\n",
       "      <td>0.50</td>\n",
       "      <td>A</td>\n",
       "    </tr>\n",
       "    <tr>\n",
       "      <th>0024</th>\n",
       "      <td>9,942,731.37</td>\n",
       "      <td>128,317,457.49</td>\n",
       "      <td>0.55</td>\n",
       "      <td>A</td>\n",
       "    </tr>\n",
       "    <tr>\n",
       "      <th>0021</th>\n",
       "      <td>8,371,818.17</td>\n",
       "      <td>136,689,275.66</td>\n",
       "      <td>0.58</td>\n",
       "      <td>A</td>\n",
       "    </tr>\n",
       "    <tr>\n",
       "      <th>2250</th>\n",
       "      <td>8,035,868.60</td>\n",
       "      <td>144,725,144.25</td>\n",
       "      <td>0.62</td>\n",
       "      <td>A</td>\n",
       "    </tr>\n",
       "    <tr>\n",
       "      <th>0007</th>\n",
       "      <td>7,772,727.44</td>\n",
       "      <td>152,497,871.70</td>\n",
       "      <td>0.65</td>\n",
       "      <td>A</td>\n",
       "    </tr>\n",
       "    <tr>\n",
       "      <th>0004</th>\n",
       "      <td>7,136,851.16</td>\n",
       "      <td>159,634,722.86</td>\n",
       "      <td>0.68</td>\n",
       "      <td>A</td>\n",
       "    </tr>\n",
       "    <tr>\n",
       "      <th>0030</th>\n",
       "      <td>6,362,343.62</td>\n",
       "      <td>165,997,066.47</td>\n",
       "      <td>0.71</td>\n",
       "      <td>A</td>\n",
       "    </tr>\n",
       "    <tr>\n",
       "      <th>0027</th>\n",
       "      <td>6,231,829.67</td>\n",
       "      <td>172,228,896.15</td>\n",
       "      <td>0.73</td>\n",
       "      <td>A</td>\n",
       "    </tr>\n",
       "    <tr>\n",
       "      <th>0058</th>\n",
       "      <td>6,198,786.81</td>\n",
       "      <td>178,427,682.95</td>\n",
       "      <td>0.76</td>\n",
       "      <td>A</td>\n",
       "    </tr>\n",
       "    <tr>\n",
       "      <th>0807</th>\n",
       "      <td>6,103,271.95</td>\n",
       "      <td>184,530,954.91</td>\n",
       "      <td>0.79</td>\n",
       "      <td>A</td>\n",
       "    </tr>\n",
       "    <tr>\n",
       "      <th>0010</th>\n",
       "      <td>5,969,592.92</td>\n",
       "      <td>190,500,547.83</td>\n",
       "      <td>0.81</td>\n",
       "      <td>B</td>\n",
       "    </tr>\n",
       "    <tr>\n",
       "      <th>0026</th>\n",
       "      <td>5,904,473.71</td>\n",
       "      <td>196,405,021.54</td>\n",
       "      <td>0.84</td>\n",
       "      <td>B</td>\n",
       "    </tr>\n",
       "    <tr>\n",
       "      <th>0050</th>\n",
       "      <td>5,575,252.37</td>\n",
       "      <td>201,980,273.92</td>\n",
       "      <td>0.86</td>\n",
       "      <td>B</td>\n",
       "    </tr>\n",
       "    <tr>\n",
       "      <th>0011</th>\n",
       "      <td>4,686,907.19</td>\n",
       "      <td>206,667,181.11</td>\n",
       "      <td>0.88</td>\n",
       "      <td>B</td>\n",
       "    </tr>\n",
       "    <tr>\n",
       "      <th>0028</th>\n",
       "      <td>4,503,140.25</td>\n",
       "      <td>211,170,321.36</td>\n",
       "      <td>0.90</td>\n",
       "      <td>B</td>\n",
       "    </tr>\n",
       "    <tr>\n",
       "      <th>0042</th>\n",
       "      <td>4,408,223.70</td>\n",
       "      <td>215,578,545.06</td>\n",
       "      <td>0.92</td>\n",
       "      <td>B</td>\n",
       "    </tr>\n",
       "    <tr>\n",
       "      <th>2249</th>\n",
       "      <td>4,308,996.50</td>\n",
       "      <td>219,887,541.56</td>\n",
       "      <td>0.94</td>\n",
       "      <td>B</td>\n",
       "    </tr>\n",
       "    <tr>\n",
       "      <th>0806</th>\n",
       "      <td>4,201,449.06</td>\n",
       "      <td>224,088,990.62</td>\n",
       "      <td>0.95</td>\n",
       "      <td>C</td>\n",
       "    </tr>\n",
       "    <tr>\n",
       "      <th>0015</th>\n",
       "      <td>3,382,987.11</td>\n",
       "      <td>227,471,977.73</td>\n",
       "      <td>0.97</td>\n",
       "      <td>C</td>\n",
       "    </tr>\n",
       "    <tr>\n",
       "      <th>0059</th>\n",
       "      <td>2,671,787.07</td>\n",
       "      <td>230,143,764.80</td>\n",
       "      <td>0.98</td>\n",
       "      <td>C</td>\n",
       "    </tr>\n",
       "    <tr>\n",
       "      <th>2247</th>\n",
       "      <td>1,840,515.61</td>\n",
       "      <td>231,984,280.41</td>\n",
       "      <td>0.99</td>\n",
       "      <td>C</td>\n",
       "    </tr>\n",
       "    <tr>\n",
       "      <th>2248</th>\n",
       "      <td>1,791,032.48</td>\n",
       "      <td>233,775,312.89</td>\n",
       "      <td>1.00</td>\n",
       "      <td>C</td>\n",
       "    </tr>\n",
       "    <tr>\n",
       "      <th>2251</th>\n",
       "      <td>491,337.27</td>\n",
       "      <td>234,266,650.15</td>\n",
       "      <td>1.00</td>\n",
       "      <td>C</td>\n",
       "    </tr>\n",
       "    <tr>\n",
       "      <th>0012</th>\n",
       "      <td>485,699.88</td>\n",
       "      <td>234,752,350.04</td>\n",
       "      <td>1.00</td>\n",
       "      <td>C</td>\n",
       "    </tr>\n",
       "  </tbody>\n",
       "</table>\n",
       "</div>"
      ],
      "text/plain": [
       "                      Ventas Netas (USD)  Ventas Acumuladas  \\\n",
       "Departamento - Clave                                          \n",
       "0001                       20,274,844.59      20,274,844.59   \n",
       "0022                       13,653,840.73      33,928,685.33   \n",
       "0005                       13,540,891.31      47,469,576.64   \n",
       "0008                       12,903,730.01      60,373,306.66   \n",
       "0003                       12,539,779.33      72,913,085.99   \n",
       "0002                       11,895,221.25      84,808,307.24   \n",
       "0009                       11,810,286.93      96,618,594.17   \n",
       "0023                       11,283,274.29     107,901,868.46   \n",
       "0025                       10,472,857.66     118,374,726.11   \n",
       "0024                        9,942,731.37     128,317,457.49   \n",
       "0021                        8,371,818.17     136,689,275.66   \n",
       "2250                        8,035,868.60     144,725,144.25   \n",
       "0007                        7,772,727.44     152,497,871.70   \n",
       "0004                        7,136,851.16     159,634,722.86   \n",
       "0030                        6,362,343.62     165,997,066.47   \n",
       "0027                        6,231,829.67     172,228,896.15   \n",
       "0058                        6,198,786.81     178,427,682.95   \n",
       "0807                        6,103,271.95     184,530,954.91   \n",
       "0010                        5,969,592.92     190,500,547.83   \n",
       "0026                        5,904,473.71     196,405,021.54   \n",
       "0050                        5,575,252.37     201,980,273.92   \n",
       "0011                        4,686,907.19     206,667,181.11   \n",
       "0028                        4,503,140.25     211,170,321.36   \n",
       "0042                        4,408,223.70     215,578,545.06   \n",
       "2249                        4,308,996.50     219,887,541.56   \n",
       "0806                        4,201,449.06     224,088,990.62   \n",
       "0015                        3,382,987.11     227,471,977.73   \n",
       "0059                        2,671,787.07     230,143,764.80   \n",
       "2247                        1,840,515.61     231,984,280.41   \n",
       "2248                        1,791,032.48     233,775,312.89   \n",
       "2251                          491,337.27     234,266,650.15   \n",
       "0012                          485,699.88     234,752,350.04   \n",
       "\n",
       "                      Porcentaje Acumulado Clasificación  \n",
       "Departamento - Clave                                      \n",
       "0001                                  0.09             A  \n",
       "0022                                  0.14             A  \n",
       "0005                                  0.20             A  \n",
       "0008                                  0.26             A  \n",
       "0003                                  0.31             A  \n",
       "0002                                  0.36             A  \n",
       "0009                                  0.41             A  \n",
       "0023                                  0.46             A  \n",
       "0025                                  0.50             A  \n",
       "0024                                  0.55             A  \n",
       "0021                                  0.58             A  \n",
       "2250                                  0.62             A  \n",
       "0007                                  0.65             A  \n",
       "0004                                  0.68             A  \n",
       "0030                                  0.71             A  \n",
       "0027                                  0.73             A  \n",
       "0058                                  0.76             A  \n",
       "0807                                  0.79             A  \n",
       "0010                                  0.81             B  \n",
       "0026                                  0.84             B  \n",
       "0050                                  0.86             B  \n",
       "0011                                  0.88             B  \n",
       "0028                                  0.90             B  \n",
       "0042                                  0.92             B  \n",
       "2249                                  0.94             B  \n",
       "0806                                  0.95             C  \n",
       "0015                                  0.97             C  \n",
       "0059                                  0.98             C  \n",
       "2247                                  0.99             C  \n",
       "2248                                  1.00             C  \n",
       "2251                                  1.00             C  \n",
       "0012                                  1.00             C  "
      ]
     },
     "execution_count": 20,
     "metadata": {},
     "output_type": "execute_result"
    }
   ],
   "source": [
    "# DataFrame con toda la información\n",
    "df_pareto = pd.DataFrame({\n",
    "    \"Ventas Netas (USD)\": ventas_por_departamento,\n",
    "    \"Ventas Acumuladas\": ventas_acumuladas,\n",
    "    \"Porcentaje Acumulado\": porcentaje_acumulado,\n",
    "    \"Clasificación\": clasificacion_dpto\n",
    "})\n",
    "df_pareto"
   ]
  },
  {
   "cell_type": "markdown",
   "id": "ae29561f",
   "metadata": {},
   "source": [
    "### 1.- \n",
    "¿Cuál es el monto de ventas por cada clasificación (A, B y C)?"
   ]
  },
  {
   "cell_type": "markdown",
   "id": "4c5e1670",
   "metadata": {},
   "source": [
    "### 2.- \n",
    "Calcular el número de departamentos por cada clasificación (A, B y C).\n"
   ]
  },
  {
   "cell_type": "code",
   "execution_count": 21,
   "id": "9f16d7d5",
   "metadata": {},
   "outputs": [
    {
     "name": "stdout",
     "output_type": "stream",
     "text": [
      "               Ventas Netas (USD)  Número de Departamentos\n",
      "Clasificación                                             \n",
      "A                  184,530,954.91                       18\n",
      "B                   35,356,586.65                        7\n",
      "C                   14,864,808.48                        7\n"
     ]
    }
   ],
   "source": [
    "# Pregunta 1.- \n",
    "ventas_por_clase = df_pareto.groupby(\"Clasificación\")[\"Ventas Netas (USD)\"].sum()\n",
    "\n",
    "# Pregunta 2.-\n",
    "frecuencia = df_pareto[\"Clasificación\"].value_counts()\n",
    "\n",
    "# Juntar ambas\n",
    "resumen = pd.concat([ventas_por_clase, frecuencia], axis=1)\n",
    "resumen.columns = [\"Ventas Netas (USD)\", \"Número de Departamentos\"]\n",
    "print(resumen)"
   ]
  },
  {
   "cell_type": "markdown",
   "id": "5d44bd91",
   "metadata": {},
   "source": [
    "## Pareto ABC por clientes"
   ]
  },
  {
   "cell_type": "code",
   "execution_count": 22,
   "id": "84e6bed9",
   "metadata": {},
   "outputs": [],
   "source": [
    "# Agrupar las ventas netas por número de cliente\n",
    "ventas_por_cliente = df.groupby(\"Número de cliente\")[\"Ventas Netas (USD)\"].sum().sort_values(ascending=False)\n",
    "\n",
    "# Calcular el porcentaje acumulado\n",
    "ventas_acumuladas_cliente = ventas_por_cliente.cumsum()\n",
    "ventas_totales_cliente = ventas_por_cliente.sum()\n",
    "porcentaje_acumulado_cliente = ventas_acumuladas_cliente / ventas_totales_cliente"
   ]
  },
  {
   "cell_type": "code",
   "execution_count": 23,
   "id": "e682083f",
   "metadata": {},
   "outputs": [
    {
     "data": {
      "application/vnd.microsoft.datawrangler.viewer.v0+json": {
       "columns": [
        {
         "name": "Número de cliente",
         "rawType": "float64",
         "type": "float"
        },
        {
         "name": "Ventas Netas (USD)",
         "rawType": "float64",
         "type": "float"
        },
        {
         "name": "Ventas Acumuladas",
         "rawType": "float64",
         "type": "float"
        },
        {
         "name": "Porcentaje Acumulado",
         "rawType": "float64",
         "type": "float"
        },
        {
         "name": "Clasificación",
         "rawType": "object",
         "type": "string"
        }
       ],
       "ref": "7284e495-d3f0-4da5-b36b-89c91988c1d5",
       "rows": [
        [
         "47.0",
         "20530094.32933333",
         "20530094.32933333",
         "0.08745426542560691",
         "A"
        ],
        [
         "14.0",
         "19963858.341333333",
         "40493952.670666665",
         "0.17249647411178964",
         "A"
        ],
        [
         "59.0",
         "19198607.441333335",
         "59692560.112",
         "0.25427886069232514",
         "A"
        ],
        [
         "68.0",
         "18611336.472",
         "78303896.584",
         "0.33355958554618026",
         "A"
        ],
        [
         "74.0",
         "16949299.52",
         "95253196.104",
         "0.4057603516616239",
         "A"
        ],
        [
         "71.0",
         "2889474.989333333",
         "98142671.09333333",
         "0.4180689610914772",
         "A"
        ],
        [
         "8.0",
         "2862600.229333333",
         "101005271.32266666",
         "0.4302630891966669",
         "A"
        ],
        [
         "7.0",
         "2818352.208",
         "103823623.53066666",
         "0.4422687292150429",
         "A"
        ],
        [
         "1.0",
         "2726283.872",
         "106549907.40266666",
         "0.4538821757751387",
         "A"
        ],
        [
         "79.0",
         "2656799.7146666665",
         "109206707.11733332",
         "0.4651996331478092",
         "A"
        ],
        [
         "78.0",
         "2610267.2146666665",
         "111816974.33199999",
         "0.47631887099256937",
         "A"
        ],
        [
         "51.0",
         "2592071.972",
         "114409046.30399999",
         "0.48736060059230496",
         "A"
        ],
        [
         "46.0",
         "2467481.2199999997",
         "116876527.52399999",
         "0.4978715974774122",
         "A"
        ],
        [
         "32.0",
         "2327797.8466666667",
         "119204325.37066665",
         "0.5077875699748534",
         "A"
        ],
        [
         "45.0",
         "2320251.764",
         "121524577.13466665",
         "0.5176713976070121",
         "A"
        ],
        [
         "29.0",
         "2305812.1173333335",
         "123830389.25199999",
         "0.5274937151130125",
         "A"
        ],
        [
         "64.0",
         "2279389.973333333",
         "126109779.22533332",
         "0.5372034793517252",
         "A"
        ],
        [
         "55.0",
         "2229722.553333333",
         "128339501.77866665",
         "0.5467016699044136",
         "A"
        ],
        [
         "27.0",
         "2177232.928",
         "130516734.70666665",
         "0.5559762647174841",
         "A"
        ],
        [
         "44.0",
         "2147159.2893333333",
         "132663893.99599998",
         "0.5651227515961205",
         "A"
        ],
        [
         "87.0",
         "2139025.1",
         "134802919.096",
         "0.5742345883878373",
         "A"
        ],
        [
         "72.0",
         "2088667.456",
         "136891586.552",
         "0.5831319112716324",
         "A"
        ],
        [
         "58.0",
         "2081958.464",
         "138973545.01599997",
         "0.5920006551358822",
         "A"
        ],
        [
         "76.0",
         "2073064.5786666665",
         "141046609.59466663",
         "0.6008315127539157",
         "A"
        ],
        [
         "65.0",
         "2066083.6933333334",
         "143112693.28799996",
         "0.6096326331389362",
         "A"
        ],
        [
         "36.0",
         "2058473.6413333332",
         "145171166.9293333",
         "0.6184013361615798",
         "A"
        ],
        [
         "61.0",
         "2045899.656",
         "147217066.5853333",
         "0.627116476417625",
         "A"
        ],
        [
         "86.0",
         "2016157.1373333333",
         "149233223.72266662",
         "0.6357049192469477",
         "A"
        ],
        [
         "84.0",
         "1984407.02",
         "151217630.74266663",
         "0.6441581126641626",
         "A"
        ],
        [
         "70.0",
         "1964956.6946666667",
         "153182587.4373333",
         "0.6525284514248408",
         "A"
        ],
        [
         "2.0",
         "1953236.5373333334",
         "155135823.97466663",
         "0.6608488645624891",
         "A"
        ],
        [
         "49.0",
         "1945194.3133333332",
         "157081018.28799996",
         "0.6691350193679044",
         "A"
        ],
        [
         "22.0",
         "1922951.0373333334",
         "159003969.3253333",
         "0.6773264220824606",
         "A"
        ],
        [
         "24.0",
         "1881546.9293333334",
         "160885516.25466663",
         "0.6853414512357142",
         "A"
        ],
        [
         "26.0",
         "1852024.8413333334",
         "162737541.09599996",
         "0.6932307219546199",
         "A"
        ],
        [
         "82.0",
         "1824770.5533333332",
         "164562311.6493333",
         "0.7010038946323525",
         "A"
        ],
        [
         "42.0",
         "1821564.2973333334",
         "166383875.94666663",
         "0.7087634092742889",
         "A"
        ],
        [
         "53.0",
         "1819525.244",
         "168203401.19066662",
         "0.7165142379399911",
         "A"
        ],
        [
         "50.0",
         "1778574.5986666668",
         "169981975.78933328",
         "0.7240906247084044",
         "A"
        ],
        [
         "69.0",
         "1751977.2906666668",
         "171733953.07999995",
         "0.7315537120444757",
         "A"
        ],
        [
         "60.0",
         "1735589.6439999999",
         "173469542.72399995",
         "0.7389469911478962",
         "A"
        ],
        [
         "62.0",
         "1712628.9453333332",
         "175182171.66933328",
         "0.7462424620774554",
         "A"
        ],
        [
         "48.0",
         "1706545.0346666668",
         "176888716.70399994",
         "0.7535120167140966",
         "A"
        ],
        [
         "38.0",
         "1679813.9786666667",
         "178568530.6826666",
         "0.7606677021775609",
         "A"
        ],
        [
         "85.0",
         "1672850.792",
         "180241381.4746666",
         "0.7677937258009386",
         "A"
        ],
        [
         "41.0",
         "1662372.616",
         "181903754.0906666",
         "0.7748751144036302",
         "A"
        ],
        [
         "39.0",
         "1658169.532",
         "183561923.6226666",
         "0.7819385986743765",
         "A"
        ],
        [
         "52.0",
         "1652071.2626666666",
         "185213994.88533327",
         "0.7889761054870381",
         "A"
        ],
        [
         "80.0",
         "1650373.7973333334",
         "186864368.6826666",
         "0.7960063814228499",
         "A"
        ],
        [
         "81.0",
         "1632161.2093333332",
         "188496529.89199993",
         "0.8029590752258428",
         "B"
        ]
       ],
       "shape": {
        "columns": 4,
        "rows": 87
       }
      },
      "text/html": [
       "<div>\n",
       "<style scoped>\n",
       "    .dataframe tbody tr th:only-of-type {\n",
       "        vertical-align: middle;\n",
       "    }\n",
       "\n",
       "    .dataframe tbody tr th {\n",
       "        vertical-align: top;\n",
       "    }\n",
       "\n",
       "    .dataframe thead th {\n",
       "        text-align: right;\n",
       "    }\n",
       "</style>\n",
       "<table border=\"1\" class=\"dataframe\">\n",
       "  <thead>\n",
       "    <tr style=\"text-align: right;\">\n",
       "      <th></th>\n",
       "      <th>Ventas Netas (USD)</th>\n",
       "      <th>Ventas Acumuladas</th>\n",
       "      <th>Porcentaje Acumulado</th>\n",
       "      <th>Clasificación</th>\n",
       "    </tr>\n",
       "    <tr>\n",
       "      <th>Número de cliente</th>\n",
       "      <th></th>\n",
       "      <th></th>\n",
       "      <th></th>\n",
       "      <th></th>\n",
       "    </tr>\n",
       "  </thead>\n",
       "  <tbody>\n",
       "    <tr>\n",
       "      <th>47.00</th>\n",
       "      <td>20,530,094.33</td>\n",
       "      <td>20,530,094.33</td>\n",
       "      <td>0.09</td>\n",
       "      <td>A</td>\n",
       "    </tr>\n",
       "    <tr>\n",
       "      <th>14.00</th>\n",
       "      <td>19,963,858.34</td>\n",
       "      <td>40,493,952.67</td>\n",
       "      <td>0.17</td>\n",
       "      <td>A</td>\n",
       "    </tr>\n",
       "    <tr>\n",
       "      <th>59.00</th>\n",
       "      <td>19,198,607.44</td>\n",
       "      <td>59,692,560.11</td>\n",
       "      <td>0.25</td>\n",
       "      <td>A</td>\n",
       "    </tr>\n",
       "    <tr>\n",
       "      <th>68.00</th>\n",
       "      <td>18,611,336.47</td>\n",
       "      <td>78,303,896.58</td>\n",
       "      <td>0.33</td>\n",
       "      <td>A</td>\n",
       "    </tr>\n",
       "    <tr>\n",
       "      <th>74.00</th>\n",
       "      <td>16,949,299.52</td>\n",
       "      <td>95,253,196.10</td>\n",
       "      <td>0.41</td>\n",
       "      <td>A</td>\n",
       "    </tr>\n",
       "    <tr>\n",
       "      <th>...</th>\n",
       "      <td>...</td>\n",
       "      <td>...</td>\n",
       "      <td>...</td>\n",
       "      <td>...</td>\n",
       "    </tr>\n",
       "    <tr>\n",
       "      <th>18.00</th>\n",
       "      <td>943,603.08</td>\n",
       "      <td>231,808,396.15</td>\n",
       "      <td>0.99</td>\n",
       "      <td>C</td>\n",
       "    </tr>\n",
       "    <tr>\n",
       "      <th>16.00</th>\n",
       "      <td>924,974.47</td>\n",
       "      <td>232,733,370.62</td>\n",
       "      <td>0.99</td>\n",
       "      <td>C</td>\n",
       "    </tr>\n",
       "    <tr>\n",
       "      <th>12.00</th>\n",
       "      <td>877,763.51</td>\n",
       "      <td>233,611,134.13</td>\n",
       "      <td>1.00</td>\n",
       "      <td>C</td>\n",
       "    </tr>\n",
       "    <tr>\n",
       "      <th>17.00</th>\n",
       "      <td>579,313.19</td>\n",
       "      <td>234,190,447.32</td>\n",
       "      <td>1.00</td>\n",
       "      <td>C</td>\n",
       "    </tr>\n",
       "    <tr>\n",
       "      <th>28.00</th>\n",
       "      <td>561,902.71</td>\n",
       "      <td>234,752,350.04</td>\n",
       "      <td>1.00</td>\n",
       "      <td>C</td>\n",
       "    </tr>\n",
       "  </tbody>\n",
       "</table>\n",
       "<p>87 rows × 4 columns</p>\n",
       "</div>"
      ],
      "text/plain": [
       "                   Ventas Netas (USD)  Ventas Acumuladas  \\\n",
       "Número de cliente                                          \n",
       "47.00                   20,530,094.33      20,530,094.33   \n",
       "14.00                   19,963,858.34      40,493,952.67   \n",
       "59.00                   19,198,607.44      59,692,560.11   \n",
       "68.00                   18,611,336.47      78,303,896.58   \n",
       "74.00                   16,949,299.52      95,253,196.10   \n",
       "...                               ...                ...   \n",
       "18.00                      943,603.08     231,808,396.15   \n",
       "16.00                      924,974.47     232,733,370.62   \n",
       "12.00                      877,763.51     233,611,134.13   \n",
       "17.00                      579,313.19     234,190,447.32   \n",
       "28.00                      561,902.71     234,752,350.04   \n",
       "\n",
       "                   Porcentaje Acumulado Clasificación  \n",
       "Número de cliente                                      \n",
       "47.00                              0.09             A  \n",
       "14.00                              0.17             A  \n",
       "59.00                              0.25             A  \n",
       "68.00                              0.33             A  \n",
       "74.00                              0.41             A  \n",
       "...                                 ...           ...  \n",
       "18.00                              0.99             C  \n",
       "16.00                              0.99             C  \n",
       "12.00                              1.00             C  \n",
       "17.00                              1.00             C  \n",
       "28.00                              1.00             C  \n",
       "\n",
       "[87 rows x 4 columns]"
      ]
     },
     "execution_count": 23,
     "metadata": {},
     "output_type": "execute_result"
    }
   ],
   "source": [
    "# Llamar a la función de clasificación ABC\n",
    "clasificacion_cliente = porcentaje_acumulado_cliente.apply(clasificacion_abc)\n",
    "\n",
    "# DataFrame con toda la información\n",
    "df_pareto_cliente = pd.DataFrame({\n",
    "    \"Ventas Netas (USD)\": ventas_por_cliente,\n",
    "    \"Ventas Acumuladas\": ventas_acumuladas_cliente,\n",
    "    \"Porcentaje Acumulado\": porcentaje_acumulado_cliente,\n",
    "    \"Clasificación\": clasificacion_cliente\n",
    "})\n",
    "df_pareto_cliente"
   ]
  },
  {
   "cell_type": "code",
   "execution_count": 24,
   "id": "577756ce",
   "metadata": {},
   "outputs": [
    {
     "name": "stdout",
     "output_type": "stream",
     "text": [
      "               Ventas Netas (USD)  Cantidad de Clientes\n",
      "Clasificación                                          \n",
      "A                  186,864,368.68                    49\n",
      "B                   35,345,594.06                    25\n",
      "C                   12,542,387.29                    13\n"
     ]
    }
   ],
   "source": [
    "ventas_por_clase_cliente = df_pareto_cliente.groupby(\"Clasificación\")[\"Ventas Netas (USD)\"].sum()\n",
    "frecuencia_cliente = df_pareto_cliente[\"Clasificación\"].value_counts()\n",
    "\n",
    "# Juntar ambas\n",
    "resumen_cliente = pd.concat([ventas_por_clase_cliente, frecuencia_cliente], axis=1)\n",
    "resumen_cliente.columns = [\"Ventas Netas (USD)\", \"Cantidad de Clientes\"]\n",
    "print(resumen_cliente)"
   ]
  },
  {
   "cell_type": "markdown",
   "id": "3ce8e132",
   "metadata": {},
   "source": [
    "### 3.- \n",
    "Realizar un ABC de clientes e identificar cuáles son los 5 clientes que más compran.\n"
   ]
  },
  {
   "cell_type": "code",
   "execution_count": 25,
   "id": "65a62bc0",
   "metadata": {},
   "outputs": [
    {
     "name": "stdout",
     "output_type": "stream",
     "text": [
      "Número de cliente\n",
      "47.00   20,530,094.33\n",
      "14.00   19,963,858.34\n",
      "59.00   19,198,607.44\n",
      "68.00   18,611,336.47\n",
      "74.00   16,949,299.52\n",
      "Name: Ventas Netas (USD), dtype: float64\n"
     ]
    }
   ],
   "source": [
    "# Agrupar por cliente y sumar sus compras totales\n",
    "ventas_por_cliente = df.groupby(\"Número de cliente\")[\"Ventas Netas (USD)\"].sum()\n",
    "\n",
    "# Ordenar de mayor a menor\n",
    "top_5_clientes = ventas_por_cliente.sort_values(ascending=False).head(5)\n",
    "print(top_5_clientes)"
   ]
  },
  {
   "cell_type": "markdown",
   "id": "19f2155a",
   "metadata": {},
   "source": [
    "### 4.- \n",
    "Identificar cuál es el vendedor que le vende a la mayoría de los clientes\n"
   ]
  },
  {
   "cell_type": "code",
   "execution_count": 26,
   "id": "04a24fb1",
   "metadata": {},
   "outputs": [
    {
     "data": {
      "application/vnd.microsoft.datawrangler.viewer.v0+json": {
       "columns": [
        {
         "name": "Número de Vendedor",
         "rawType": "float64",
         "type": "float"
        },
        {
         "name": "Clientes Únicos",
         "rawType": "int64",
         "type": "integer"
        }
       ],
       "ref": "db43e10f-26b2-4370-a4d6-b716a46cde94",
       "rows": [
        [
         "1.0",
         "87"
        ],
        [
         "8.0",
         "16"
        ],
        [
         "3.0",
         "10"
        ],
        [
         "4.0",
         "10"
        ],
        [
         "2.0",
         "9"
        ],
        [
         "5.0",
         "9"
        ],
        [
         "6.0",
         "9"
        ],
        [
         "7.0",
         "9"
        ]
       ],
       "shape": {
        "columns": 1,
        "rows": 8
       }
      },
      "text/plain": [
       "Número de Vendedor\n",
       "1.00    87\n",
       "8.00    16\n",
       "3.00    10\n",
       "4.00    10\n",
       "2.00     9\n",
       "5.00     9\n",
       "6.00     9\n",
       "7.00     9\n",
       "Name: Clientes Únicos, dtype: int64"
      ]
     },
     "execution_count": 26,
     "metadata": {},
     "output_type": "execute_result"
    }
   ],
   "source": [
    "# Agrupar por vendedor y contar cuántos clientes distintos ha atendido\n",
    "clientes_por_vendedor = df.groupby(\"Número de Vendedor\")[\"Número de cliente\"].nunique().sort_values(ascending=False)\n",
    "clientes_por_vendedor = clientes_por_vendedor.rename(\"Clientes Únicos\")\n",
    "clientes_por_vendedor"
   ]
  },
  {
   "cell_type": "markdown",
   "id": "7fed389a",
   "metadata": {},
   "source": [
    "## Análisis de tendencia de ventas\n",
    "\n",
    "Utilizar la base de datos para construir gráficos dinámicos que representen la tendencia de ventas por mes por vendedor, total \n"
   ]
  },
  {
   "cell_type": "markdown",
   "id": "0bad2d6d",
   "metadata": {},
   "source": [
    "### 5.- \n",
    "¿Cuál es el mes con más ventas para el año 2015 y 2016?"
   ]
  },
  {
   "cell_type": "code",
   "execution_count": 27,
   "id": "491172fc",
   "metadata": {},
   "outputs": [
    {
     "name": "stdout",
     "output_type": "stream",
     "text": [
      "     Año  Mes  Ventas Netas (USD)\n",
      "11  2015   12       23,388,850.79\n",
      "22  2016   11       16,960,601.28\n"
     ]
    }
   ],
   "source": [
    "# Agrupar por año y mes numérico, y sumar ventas\n",
    "ventas_por_mes_num = df.groupby([\"Año\", \"Mes\"])[\"Ventas Netas (USD)\"].sum().reset_index()\n",
    "\n",
    "# Encontrar el mes con mayor venta por año usando la columna Mes\n",
    "meses_maximos = ventas_por_mes_num.loc[ventas_por_mes_num.groupby(\"Año\")[\"Ventas Netas (USD)\"].idxmax()]\n",
    "print(meses_maximos)"
   ]
  },
  {
   "cell_type": "markdown",
   "id": "368de72d",
   "metadata": {},
   "source": [
    "### 6.- \n",
    "¿Cuál es el mes con menos ventas para el año 2015 y 2016?\n"
   ]
  },
  {
   "cell_type": "code",
   "execution_count": 28,
   "id": "03527ebc",
   "metadata": {},
   "outputs": [
    {
     "name": "stdout",
     "output_type": "stream",
     "text": [
      "     Año  Mes  Ventas Netas (USD)\n",
      "1   2015    2        7,084,395.69\n",
      "23  2016   12        4,404,673.10\n"
     ]
    }
   ],
   "source": [
    "# Obtener el mes con menos ventas por año usando la columna Mes\n",
    "meses_minimos = ventas_por_mes_num.loc[ventas_por_mes_num.groupby(\"Año\")[\"Ventas Netas (USD)\"].idxmin()]\n",
    "print(meses_minimos)"
   ]
  },
  {
   "cell_type": "markdown",
   "id": "5135a8d5",
   "metadata": {},
   "source": [
    "### 7.- \n",
    "¿Cuál es el porcentaje de crecimiento anual?\n"
   ]
  },
  {
   "cell_type": "markdown",
   "id": "cb486b6f",
   "metadata": {},
   "source": [
    "Se calculará el porcentaje de crecimiento de la siguiente manera: \n",
    "\n",
    "(Ventas año actual - Ventas año anterior) * 100 / (Ventas año anterior) "
   ]
  },
  {
   "cell_type": "code",
   "execution_count": 29,
   "id": "af858542",
   "metadata": {},
   "outputs": [
    {
     "name": "stdout",
     "output_type": "stream",
     "text": [
      "Crecimiento de 2015 a 2016: -7.18%\n"
     ]
    }
   ],
   "source": [
    "# Calcular ventas anuales en total\n",
    "ventas_anuales = df.groupby(\"Año\")[\"Ventas Netas (USD)\"].sum()\n",
    "\n",
    "# Calcular el porcentaje de crecimiento entre 2015 y 2016\n",
    "ventas_2015 = ventas_anuales.get(2015, 0)\n",
    "ventas_2016 = ventas_anuales.get(2016, 0)\n",
    "\n",
    "if ventas_2015 > 0:\n",
    "    crecimiento_pct = ((ventas_2016 - ventas_2015) / ventas_2015) * 100\n",
    "    print(f\"Crecimiento de 2015 a 2016: {crecimiento_pct:.2f}%\")\n",
    "else:\n",
    "    print(\"No hay datos de ventas para 2015 o son cero.\")\n"
   ]
  },
  {
   "cell_type": "code",
   "execution_count": 31,
   "id": "6e3880c5",
   "metadata": {},
   "outputs": [
    {
     "name": "stdout",
     "output_type": "stream",
     "text": [
      "Predicción SARIMA para ventas netas (USD) en diciembre 2016: 33,201,465.50\n"
     ]
    },
    {
     "name": "stderr",
     "output_type": "stream",
     "text": [
      "c:\\Users\\David\\AppData\\Local\\Programs\\Python\\Python311\\Lib\\site-packages\\statsmodels\\tsa\\statespace\\sarimax.py:866: UserWarning: Too few observations to estimate starting parameters for seasonal ARMA. All parameters except for variances will be set to zeros.\n",
      "  warn('Too few observations to estimate starting parameters%s.'\n"
     ]
    }
   ],
   "source": [
    "from statsmodels.tsa.statespace.sarimax import SARIMAX\n",
    "\n",
    "# Crear la serie temporal mensual (sumando ventas por mes y excluyendo diciembre 2016)\n",
    "ventas_por_mes_sarima = (\n",
    "    df[(df[\"Año\"] < 2016) | ((df[\"Año\"] == 2016) & (df[\"Mes\"] < 12))]\n",
    "    .groupby([df[\"Fecha\"].dt.to_period(\"M\")])[\"Ventas Netas (USD)\"]\n",
    "    .sum()\n",
    "    .sort_index()\n",
    ")\n",
    "\n",
    "# Ajustar el modelo SARIMA (parámetros básicos, pueden ajustarse)\n",
    "model = SARIMAX(ventas_por_mes_sarima, order=(1,1,1), seasonal_order=(1,1,1,12))\n",
    "results = model.fit(disp=False)\n",
    "\n",
    "# Predecir diciembre 2016\n",
    "pred = results.get_forecast(steps=1)\n",
    "predicted_dec_2016 = pred.predicted_mean.iloc[0]\n",
    "\n",
    "print(f\"Predicción SARIMA para ventas netas (USD) en diciembre 2016: {predicted_dec_2016:,.2f}\")"
   ]
  },
  {
   "cell_type": "code",
   "execution_count": 32,
   "id": "88725bac",
   "metadata": {},
   "outputs": [
    {
     "data": {
      "text/plain": [
       "33201465.500646316"
      ]
     },
     "execution_count": 32,
     "metadata": {},
     "output_type": "execute_result"
    }
   ],
   "source": [
    "predicted_dec_2016"
   ]
  },
  {
   "cell_type": "code",
   "execution_count": 33,
   "id": "f9d84b42",
   "metadata": {},
   "outputs": [
    {
     "name": "stdout",
     "output_type": "stream",
     "text": [
      "hello\n"
     ]
    }
   ],
   "source": [
    "print(\"hello\")"
   ]
  },
  {
   "cell_type": "code",
   "execution_count": null,
   "id": "a787ea10",
   "metadata": {},
   "outputs": [
    {
     "name": "stderr",
     "output_type": "stream",
     "text": [
      "c:\\Users\\David\\AppData\\Local\\Programs\\Python\\Python311\\Lib\\site-packages\\statsmodels\\tsa\\statespace\\sarimax.py:866: UserWarning:\n",
      "\n",
      "Too few observations to estimate starting parameters for seasonal ARMA. All parameters except for variances will be set to zeros.\n",
      "\n"
     ]
    },
    {
     "ename": "AttributeError",
     "evalue": "'Series' object has no attribute 'append'",
     "output_type": "error",
     "traceback": [
      "\u001b[1;31m---------------------------------------------------------------------------\u001b[0m",
      "\u001b[1;31mAttributeError\u001b[0m                            Traceback (most recent call last)",
      "\u001b[1;32m~\\AppData\\Local\\Temp\\ipykernel_10612\\1214056391.py\u001b[0m in \u001b[0;36m?\u001b[1;34m()\u001b[0m\n\u001b[0;32m     23\u001b[0m \u001b[0mventas_dic_2016\u001b[0m \u001b[1;33m=\u001b[0m \u001b[0mdf\u001b[0m\u001b[1;33m[\u001b[0m\u001b[1;33m(\u001b[0m\u001b[0mdf\u001b[0m\u001b[1;33m[\u001b[0m\u001b[1;34m\"Año\"\u001b[0m\u001b[1;33m]\u001b[0m \u001b[1;33m==\u001b[0m \u001b[1;36m2016\u001b[0m\u001b[1;33m)\u001b[0m \u001b[1;33m&\u001b[0m \u001b[1;33m(\u001b[0m\u001b[0mdf\u001b[0m\u001b[1;33m[\u001b[0m\u001b[1;34m\"Mes\"\u001b[0m\u001b[1;33m]\u001b[0m \u001b[1;33m==\u001b[0m \u001b[1;36m12\u001b[0m\u001b[1;33m)\u001b[0m\u001b[1;33m]\u001b[0m\u001b[1;33m[\u001b[0m\u001b[1;34m\"Ventas Netas (USD)\"\u001b[0m\u001b[1;33m]\u001b[0m\u001b[1;33m.\u001b[0m\u001b[0msum\u001b[0m\u001b[1;33m(\u001b[0m\u001b[1;33m)\u001b[0m\u001b[1;33m\u001b[0m\u001b[1;33m\u001b[0m\u001b[0m\n\u001b[0;32m     24\u001b[0m \u001b[1;33m\u001b[0m\u001b[0m\n\u001b[0;32m     25\u001b[0m \u001b[1;31m# Crear una nueva serie que incluya diciembre 2016 real y predicho\u001b[0m\u001b[1;33m\u001b[0m\u001b[1;33m\u001b[0m\u001b[0m\n\u001b[0;32m     26\u001b[0m \u001b[0mventas_plot\u001b[0m \u001b[1;33m=\u001b[0m \u001b[0mventas_por_mes_sarima\u001b[0m\u001b[1;33m.\u001b[0m\u001b[0mcopy\u001b[0m\u001b[1;33m(\u001b[0m\u001b[1;33m)\u001b[0m\u001b[1;33m\u001b[0m\u001b[1;33m\u001b[0m\u001b[0m\n\u001b[1;32m---> 27\u001b[1;33m \u001b[0mventas_plot\u001b[0m \u001b[1;33m=\u001b[0m \u001b[0mventas_plot\u001b[0m\u001b[1;33m.\u001b[0m\u001b[0mappend\u001b[0m\u001b[1;33m(\u001b[0m\u001b[0mpd\u001b[0m\u001b[1;33m.\u001b[0m\u001b[0mSeries\u001b[0m\u001b[1;33m(\u001b[0m\u001b[1;33m[\u001b[0m\u001b[0mventas_dic_2016\u001b[0m\u001b[1;33m]\u001b[0m\u001b[1;33m,\u001b[0m \u001b[0mindex\u001b[0m\u001b[1;33m=\u001b[0m\u001b[1;33m[\u001b[0m\u001b[0mpd\u001b[0m\u001b[1;33m.\u001b[0m\u001b[0mPeriod\u001b[0m\u001b[1;33m(\u001b[0m\u001b[1;34m'2016-12'\u001b[0m\u001b[1;33m,\u001b[0m \u001b[0mfreq\u001b[0m\u001b[1;33m=\u001b[0m\u001b[1;34m'M'\u001b[0m\u001b[1;33m)\u001b[0m\u001b[1;33m]\u001b[0m\u001b[1;33m)\u001b[0m\u001b[1;33m)\u001b[0m\u001b[1;33m\u001b[0m\u001b[1;33m\u001b[0m\u001b[0m\n\u001b[0m\u001b[0;32m     28\u001b[0m \u001b[1;33m\u001b[0m\u001b[0m\n\u001b[0;32m     29\u001b[0m \u001b[0mplt\u001b[0m\u001b[1;33m.\u001b[0m\u001b[0mfigure\u001b[0m\u001b[1;33m(\u001b[0m\u001b[0mfigsize\u001b[0m\u001b[1;33m=\u001b[0m\u001b[1;33m(\u001b[0m\u001b[1;36m10\u001b[0m\u001b[1;33m,\u001b[0m\u001b[1;36m6\u001b[0m\u001b[1;33m)\u001b[0m\u001b[1;33m)\u001b[0m\u001b[1;33m\u001b[0m\u001b[1;33m\u001b[0m\u001b[0m\n\u001b[0;32m     30\u001b[0m \u001b[0mventas_plot\u001b[0m\u001b[1;33m.\u001b[0m\u001b[0mplot\u001b[0m\u001b[1;33m(\u001b[0m\u001b[0mlabel\u001b[0m\u001b[1;33m=\u001b[0m\u001b[1;34m'Ventas reales hasta dic-2016'\u001b[0m\u001b[1;33m)\u001b[0m\u001b[1;33m\u001b[0m\u001b[1;33m\u001b[0m\u001b[0m\n",
      "\u001b[1;32mc:\\Users\\David\\AppData\\Local\\Programs\\Python\\Python311\\Lib\\site-packages\\pandas\\core\\generic.py\u001b[0m in \u001b[0;36m?\u001b[1;34m(self, name)\u001b[0m\n\u001b[0;32m   6295\u001b[0m             \u001b[1;32mand\u001b[0m \u001b[0mname\u001b[0m \u001b[1;32mnot\u001b[0m \u001b[1;32min\u001b[0m \u001b[0mself\u001b[0m\u001b[1;33m.\u001b[0m\u001b[0m_accessors\u001b[0m\u001b[1;33m\u001b[0m\u001b[1;33m\u001b[0m\u001b[0m\n\u001b[0;32m   6296\u001b[0m             \u001b[1;32mand\u001b[0m \u001b[0mself\u001b[0m\u001b[1;33m.\u001b[0m\u001b[0m_info_axis\u001b[0m\u001b[1;33m.\u001b[0m\u001b[0m_can_hold_identifiers_and_holds_name\u001b[0m\u001b[1;33m(\u001b[0m\u001b[0mname\u001b[0m\u001b[1;33m)\u001b[0m\u001b[1;33m\u001b[0m\u001b[1;33m\u001b[0m\u001b[0m\n\u001b[0;32m   6297\u001b[0m         ):\n\u001b[0;32m   6298\u001b[0m             \u001b[1;32mreturn\u001b[0m \u001b[0mself\u001b[0m\u001b[1;33m[\u001b[0m\u001b[0mname\u001b[0m\u001b[1;33m]\u001b[0m\u001b[1;33m\u001b[0m\u001b[1;33m\u001b[0m\u001b[0m\n\u001b[1;32m-> 6299\u001b[1;33m         \u001b[1;32mreturn\u001b[0m \u001b[0mobject\u001b[0m\u001b[1;33m.\u001b[0m\u001b[0m__getattribute__\u001b[0m\u001b[1;33m(\u001b[0m\u001b[0mself\u001b[0m\u001b[1;33m,\u001b[0m \u001b[0mname\u001b[0m\u001b[1;33m)\u001b[0m\u001b[1;33m\u001b[0m\u001b[1;33m\u001b[0m\u001b[0m\n\u001b[0m",
      "\u001b[1;31mAttributeError\u001b[0m: 'Series' object has no attribute 'append'"
     ]
    }
   ],
   "source": [
    "from statsmodels.tsa.statespace.sarimax import SARIMAX\n",
    "import matplotlib.pyplot as plt\n",
    "%matplotlib inline\n",
    "\n",
    "# Crear la serie temporal mensual (sumando ventas por mes y excluyendo diciembre 2016)\n",
    "ventas_por_mes_sarima = (\n",
    "    df[(df[\"Año\"] < 2016) | ((df[\"Año\"] == 2016) & (df[\"Mes\"] < 12))]\n",
    "    .groupby([df[\"Fecha\"].dt.to_period(\"M\")])[\"Ventas Netas (USD)\"]\n",
    "    .sum()\n",
    "    .sort_index()\n",
    ")\n",
    "\n",
    "# Ajustar el modelo SARIMA\n",
    "model = SARIMAX(ventas_por_mes_sarima, order=(1,1,1), seasonal_order=(1,1,1,12))\n",
    "results = model.fit(disp=False)\n",
    "\n",
    "# Predecir diciembre 2016\n",
    "pred = results.get_forecast(steps=1)\n",
    "predicted_dec_2016 = pred.predicted_mean.iloc[0]\n",
    "conf_int = pred.conf_int().iloc[0]\n",
    "\n",
    "# Obtener el valor real de diciembre 2016\n",
    "ventas_dic_2016 = df[(df[\"Año\"] == 2016) & (df[\"Mes\"] == 12)][\"Ventas Netas (USD)\"].sum()\n",
    "\n",
    "# Crear una nueva serie que incluya diciembre 2016 real y predicho\n",
    "ventas_plot = ventas_por_mes_sarima.copy()\n",
    "ventas_plot = ventas_plot.append(pd.Series([ventas_dic_2016], index=[pd.Period('2016-12', freq='M')]))\n",
    "\n",
    "plt.figure(figsize=(10,6))\n",
    "ventas_plot.plot(label='Ventas reales hasta dic-2016')\n",
    "plt.scatter(['2016-12'], [ventas_dic_2016], color='green', label='Real dic-2016')\n",
    "plt.scatter(['2016-12'], [predicted_dec_2016], color='red', label='Predicción SARIMA dic-2016')\n",
    "plt.fill_between(['2016-12'], conf_int[0], conf_int[1], color='red', alpha=0.2, label='Intervalo confianza')\n",
    "plt.legend()\n",
    "plt.title('Predicción SARIMA para ventas en diciembre 2016')\n",
    "plt.ylabel('Ventas Netas (USD)')\n",
    "plt.xlabel('Mes')\n",
    "plt.show()"
   ]
  },
  {
   "cell_type": "markdown",
   "id": "cdb9b5a7",
   "metadata": {},
   "source": [
    "## Análisis de rentabilidad de portafolio "
   ]
  },
  {
   "cell_type": "markdown",
   "id": "6e356b98",
   "metadata": {},
   "source": [
    "Definiendo rentabilidad como el Return on Investment (ROI) como: \n",
    "\n",
    "(Ventas Netas (USD) - Costo (USD)) *100 / Costo (USD)\n",
    "\n",
    "Asumiendo que el Costo en la BD está en Q, se convierte a USD y se utiliza ese costo en la fórmula. "
   ]
  },
  {
   "cell_type": "markdown",
   "id": "cb994e39",
   "metadata": {},
   "source": [
    "### 8.- \n",
    "¿Cuál es la rentabilidad del mes de septiembre del 2016?\n"
   ]
  },
  {
   "cell_type": "code",
   "execution_count": null,
   "id": "65e6a35a",
   "metadata": {},
   "outputs": [
    {
     "name": "stdout",
     "output_type": "stream",
     "text": [
      "Rentabilidad de septiembre 2016: 77.28%\n"
     ]
    }
   ],
   "source": [
    "# Filtrar septiembre 2016\n",
    "sept_2016 = df[(df[\"Fecha\"].dt.year == 2016) & (df[\"Fecha\"].dt.month == 9)]\n",
    "\n",
    "# Calcular rentabilidad total del mes\n",
    "ventas = sept_2016[\"Ventas Netas (USD)\"].sum()\n",
    "costos = sept_2016[\"Costo (USD)\"].sum()\n",
    "\n",
    "if costos > 0:\n",
    "    rentabilidad_sept = ((ventas - costos) / costos) * 100\n",
    "    print(f\"Rentabilidad de septiembre 2016: {rentabilidad_sept:.2f}%\")\n",
    "else:\n",
    "    print(\"Costo total es cero, no se puede calcular rentabilidad.\")\n"
   ]
  },
  {
   "cell_type": "markdown",
   "id": "f054905f",
   "metadata": {},
   "source": [
    "### 9.- \n",
    "¿Cuál fue el trimestre con la rentabilidad más baja?\n"
   ]
  },
  {
   "cell_type": "code",
   "execution_count": null,
   "id": "20922ec7",
   "metadata": {},
   "outputs": [
    {
     "name": "stdout",
     "output_type": "stream",
     "text": [
      "Trimestre con menor rentabilidad: 2016Q2, con 68.05%\n"
     ]
    }
   ],
   "source": [
    "# Crear columna de trimestre\n",
    "df[\"Trimestre\"] = df[\"Fecha\"].dt.to_period(\"Q\")\n",
    "\n",
    "# Agrupar por trimestre y calcular rentabilidad\n",
    "rentabilidad_trimestres = df.groupby(\"Trimestre\").agg({\n",
    "    \"Ventas Netas (USD)\": \"sum\",\n",
    "    \"Costo (USD)\": \"sum\"\n",
    "})\n",
    "\n",
    "rentabilidad_trimestres[\"Rentabilidad (%)\"] = (\n",
    "    (rentabilidad_trimestres[\"Ventas Netas (USD)\"] - rentabilidad_trimestres[\"Costo (USD)\"])\n",
    "    / rentabilidad_trimestres[\"Costo (USD)\"]\n",
    ") * 100\n",
    "\n",
    "# Encontrar el trimestre con menor rentabilidad\n",
    "trimestre_min = rentabilidad_trimestres[\"Rentabilidad (%)\"].idxmin()\n",
    "valor_min = rentabilidad_trimestres[\"Rentabilidad (%)\"].min()\n",
    "\n",
    "print(f\"Trimestre con menor rentabilidad: {trimestre_min}, con {valor_min:.2f}%\")\n"
   ]
  },
  {
   "cell_type": "markdown",
   "id": "1f7c8175",
   "metadata": {},
   "source": [
    "### 10.- \n",
    "¿Cuál fue el cliente menos rentable y en qué año?\n"
   ]
  },
  {
   "cell_type": "code",
   "execution_count": null,
   "id": "5b26b957",
   "metadata": {},
   "outputs": [
    {
     "name": "stdout",
     "output_type": "stream",
     "text": [
      "Cliente menos rentable: 20, Año: 2015, Rentabilidad: 43.72%\n"
     ]
    }
   ],
   "source": [
    "# Agrupar por cliente y año\n",
    "rentabilidad_cliente_anio = df.groupby([\"Número de cliente\", \"Año\"]).agg({\n",
    "    \"Ventas Netas (USD)\": \"sum\",\n",
    "    \"Costo (USD)\": \"sum\"\n",
    "})\n",
    "\n",
    "rentabilidad_cliente_anio[\"Rentabilidad (%)\"] = (\n",
    "    (rentabilidad_cliente_anio[\"Ventas Netas (USD)\"] - rentabilidad_cliente_anio[\"Costo (USD)\"])\n",
    "    / rentabilidad_cliente_anio[\"Costo (USD)\"]\n",
    ") * 100\n",
    "\n",
    "# Filtrar los casos donde el costo fue mayor a 0 para evitar divisiones por cero\n",
    "rentabilidad_cliente_anio = rentabilidad_cliente_anio[rentabilidad_cliente_anio[\"Costo (USD)\"] > 0]\n",
    "\n",
    "# Encontrar el cliente con menor rentabilidad\n",
    "menor_rentabilidad = rentabilidad_cliente_anio[\"Rentabilidad (%)\"].idxmin()\n",
    "valor_min_rent = rentabilidad_cliente_anio[\"Rentabilidad (%)\"].min()\n",
    "\n",
    "cliente, año = menor_rentabilidad\n",
    "\n",
    "print(f\"Cliente menos rentable: {int(cliente)}, Año: {año}, Rentabilidad: {valor_min_rent:.2f}%\")\n"
   ]
  }
 ],
 "metadata": {
  "kernelspec": {
   "display_name": "Python 3",
   "language": "python",
   "name": "python3"
  },
  "language_info": {
   "codemirror_mode": {
    "name": "ipython",
    "version": 3
   },
   "file_extension": ".py",
   "mimetype": "text/x-python",
   "name": "python",
   "nbconvert_exporter": "python",
   "pygments_lexer": "ipython3",
   "version": "3.11.5"
  }
 },
 "nbformat": 4,
 "nbformat_minor": 5
}
